{
 "cells": [
  {
   "cell_type": "markdown",
   "id": "fa44b879",
   "metadata": {},
   "source": [
    "<h1>PCA (1) applied to an Circle</h1>"
   ]
  },
  {
   "cell_type": "markdown",
   "id": "02deaffb",
   "metadata": {},
   "source": [
    "<h2>Get Component 1 from a circle<br>*compare to PCA - ellipse</h2>"
   ]
  },
  {
   "cell_type": "code",
   "execution_count": 1,
   "id": "f32a9611",
   "metadata": {},
   "outputs": [],
   "source": [
    "import math\n",
    "import numpy as np\n",
    "import matplotlib.pyplot as plt\n",
    "import pandas as pd\n",
    "from sklearn.decomposition import PCA\n",
    "from sklearn.preprocessing import StandardScaler\n",
    "from sklearn.pipeline import make_pipeline"
   ]
  },
  {
   "cell_type": "markdown",
   "id": "519c396e",
   "metadata": {},
   "source": [
    "<h2>Circle equation</h2>"
   ]
  },
  {
   "cell_type": "code",
   "execution_count": 2,
   "id": "a19bb924",
   "metadata": {},
   "outputs": [],
   "source": [
    "#center=(0,0)\n",
    "#x max = 1\n",
    "#y max = 1\n",
    "#radius = 1\n",
    "\n",
    "def x_circle_center_origin(y:float):\n",
    "    return math.sqrt(1 - (y**2))"
   ]
  },
  {
   "cell_type": "markdown",
   "id": "73095e69",
   "metadata": {},
   "source": [
    "<h3>500 random points from a uniform distribution</h3>"
   ]
  },
  {
   "cell_type": "code",
   "execution_count": 3,
   "id": "177a7317",
   "metadata": {},
   "outputs": [],
   "source": [
    "lt_coordinates = list()\n",
    "for _ in range(0,500):\n",
    "    y = np.random.uniform(-1,1)\n",
    "    lt_coordinates.append((x_circle_center_origin(y),y))   \n",
    "    lt_coordinates.append((-1 * x_circle_center_origin(y),y))"
   ]
  },
  {
   "cell_type": "code",
   "execution_count": 6,
   "id": "0aa3571e",
   "metadata": {},
   "outputs": [],
   "source": [
    "np_arr = np.array(lt_coordinates)\n",
    "x, y = np_arr.T"
   ]
  },
  {
   "cell_type": "code",
   "execution_count": 7,
   "id": "136bb2ba",
   "metadata": {},
   "outputs": [
    {
     "data": {
      "image/png": "[encoded data removed]",
      "text/plain": [
       "<Figure size 432x288 with 1 Axes>"
      ]
     },
     "metadata": {
      "needs_background": "light"
     },
     "output_type": "display_data"
    }
   ],
   "source": [
    "plt.scatter(x, y)\n",
    "plt.show()"
   ]
  },
  {
   "cell_type": "code",
   "execution_count": 8,
   "id": "ee6ecac0",
   "metadata": {},
   "outputs": [
    {
     "data": {
      "text/plain": [
       "array([[ 0.85481049,  0.5189403 ],\n",
       "       [-0.85481049,  0.5189403 ],\n",
       "       [ 0.35605565,  0.93446475],\n",
       "       ...,\n",
       "       [-0.89705676, -0.44191535],\n",
       "       [ 0.87729203, -0.47995697],\n",
       "       [-0.87729203, -0.47995697]])"
      ]
     },
     "execution_count": 8,
     "metadata": {},
     "output_type": "execute_result"
    }
   ],
   "source": [
    "np_arr"
   ]
  },
  {
   "cell_type": "code",
   "execution_count": 9,
   "id": "1513aa41",
   "metadata": {},
   "outputs": [],
   "source": [
    "df_data = pd.DataFrame(np_arr)\n",
    "df_data.rename(columns={0:\"X\",1:\"Y\"},inplace=True)"
   ]
  },
  {
   "cell_type": "code",
   "execution_count": 10,
   "id": "ddbb0a32",
   "metadata": {},
   "outputs": [],
   "source": [
    "pca_pipeline = make_pipeline(StandardScaler(), PCA(n_components=1))\n",
    "pca_data = pca_pipeline.fit_transform(df_data)"
   ]
  },
  {
   "cell_type": "markdown",
   "id": "c940efd4",
   "metadata": {},
   "source": [
    "<h3>With component one, only 50% of variance</h3>"
   ]
  },
  {
   "cell_type": "code",
   "execution_count": 11,
   "id": "f8dd43f9",
   "metadata": {},
   "outputs": [
    {
     "data": {
      "text/plain": [
       "0.5000000000000001"
      ]
     },
     "execution_count": 11,
     "metadata": {},
     "output_type": "execute_result"
    }
   ],
   "source": [
    "sum(pca_pipeline['pca'].explained_variance_ratio_)"
   ]
  },
  {
   "cell_type": "code",
   "execution_count": 12,
   "id": "cdf18753",
   "metadata": {},
   "outputs": [
    {
     "data": {
      "text/plain": [
       "1000"
      ]
     },
     "execution_count": 12,
     "metadata": {},
     "output_type": "execute_result"
    }
   ],
   "source": [
    "len(pca_data)"
   ]
  },
  {
   "cell_type": "code",
   "execution_count": 13,
   "id": "3f5ef9ca",
   "metadata": {},
   "outputs": [
    {
     "data": {
      "text/plain": [
       "numpy.ndarray"
      ]
     },
     "execution_count": 13,
     "metadata": {},
     "output_type": "execute_result"
    }
   ],
   "source": [
    "type(pca_data)"
   ]
  },
  {
   "cell_type": "code",
   "execution_count": 14,
   "id": "63dcc83a",
   "metadata": {
    "scrolled": true
   },
   "outputs": [
    {
     "data": {
      "image/png": "[encoded data removed]",
      "text/plain": [
       "<Figure size 432x288 with 1 Axes>"
      ]
     },
     "metadata": {
      "needs_background": "light"
     },
     "output_type": "display_data"
    }
   ],
   "source": [
    "fig = plt.figure()\n",
    "ax = plt.axes()\n",
    "ax.plot(pca_data[0:20]);"
   ]
  }
 ],
 "metadata": {
  "kernelspec": {
   "display_name": "Python 3",
   "language": "python",
   "name": "python3"
  },
  "language_info": {
   "codemirror_mode": {
    "name": "ipython",
    "version": 3
   },
   "file_extension": ".py",
   "mimetype": "text/x-python",
   "name": "python",
   "nbconvert_exporter": "python",
   "pygments_lexer": "ipython3",
   "version": "3.8.10"
  }
 },
 "nbformat": 4,
 "nbformat_minor": 5
}
