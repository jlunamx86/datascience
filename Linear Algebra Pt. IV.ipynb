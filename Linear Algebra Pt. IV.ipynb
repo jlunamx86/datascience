{
 "cells": [
  {
   "cell_type": "markdown",
   "id": "2445728b",
   "metadata": {},
   "source": [
    "<h1>Linear Algebra Pt. IV</h1>"
   ]
  },
  {
   "cell_type": "code",
   "execution_count": 18,
   "id": "f4af7692",
   "metadata": {},
   "outputs": [],
   "source": [
    "%matplotlib inline\n",
    "import numpy as np\n",
    "import matplotlib.pyplot as plt"
   ]
  },
  {
   "cell_type": "markdown",
   "id": "90163b2b",
   "metadata": {},
   "source": [
    "<h2>Diagonal Matrix & Symmetric Matrix: properties</h2>"
   ]
  },
  {
   "cell_type": "code",
   "execution_count": 19,
   "id": "e1bd7643",
   "metadata": {},
   "outputs": [
    {
     "name": "stdout",
     "output_type": "stream",
     "text": [
      "[[1 0 0 0 0]\n",
      " [0 2 0 0 0]\n",
      " [0 0 3 0 0]\n",
      " [0 0 0 4 0]\n",
      " [0 0 0 0 5]]\n"
     ]
    }
   ],
   "source": [
    "v = np.array([1,2,3,4,5])\n",
    "matrix = np.diag(v)\n",
    "print(matrix)"
   ]
  },
  {
   "cell_type": "code",
   "execution_count": 20,
   "id": "9c466979",
   "metadata": {},
   "outputs": [
    {
     "data": {
      "text/plain": [
       "array([[1, 0, 0],\n",
       "       [0, 2, 0],\n",
       "       [0, 0, 3],\n",
       "       [0, 0, 0]])"
      ]
     },
     "execution_count": 20,
     "metadata": {},
     "output_type": "execute_result"
    }
   ],
   "source": [
    "matrix[0:4,0:3]"
   ]
  },
  {
   "cell_type": "code",
   "execution_count": 21,
   "id": "8352d42f",
   "metadata": {},
   "outputs": [
    {
     "data": {
      "text/plain": [
       "array([[1, 0, 0, 0],\n",
       "       [0, 2, 0, 0],\n",
       "       [0, 0, 3, 0]])"
      ]
     },
     "execution_count": 21,
     "metadata": {},
     "output_type": "execute_result"
    }
   ],
   "source": [
    "matrix[0:3,0:4]"
   ]
  },
  {
   "cell_type": "code",
   "execution_count": 22,
   "id": "965db82c",
   "metadata": {},
   "outputs": [
    {
     "data": {
      "text/plain": [
       "array([[2, 0, 0, 0],\n",
       "       [0, 3, 0, 0],\n",
       "       [0, 0, 4, 0],\n",
       "       [0, 0, 0, 5]])"
      ]
     },
     "execution_count": 22,
     "metadata": {},
     "output_type": "execute_result"
    }
   ],
   "source": [
    "A = np.diag([2,3,4,5])\n",
    "A"
   ]
  },
  {
   "cell_type": "code",
   "execution_count": 23,
   "id": "0fc45dda",
   "metadata": {},
   "outputs": [
    {
     "data": {
      "text/plain": [
       "array([[1, 1, 1, 1]])"
      ]
     },
     "execution_count": 23,
     "metadata": {},
     "output_type": "execute_result"
    }
   ],
   "source": [
    "v1 = np.array([[1,1,1,1]])\n",
    "v1"
   ]
  },
  {
   "cell_type": "code",
   "execution_count": 24,
   "id": "67530831",
   "metadata": {},
   "outputs": [
    {
     "data": {
      "text/plain": [
       "array([[2],\n",
       "       [3],\n",
       "       [4],\n",
       "       [5]])"
      ]
     },
     "execution_count": 24,
     "metadata": {},
     "output_type": "execute_result"
    }
   ],
   "source": [
    "A.dot(v1.T)"
   ]
  },
  {
   "cell_type": "code",
   "execution_count": 25,
   "id": "48e8e999",
   "metadata": {},
   "outputs": [
    {
     "data": {
      "text/plain": [
       "array([[0.5       , 0.        , 0.        , 0.        ],\n",
       "       [0.        , 0.33333333, 0.        , 0.        ],\n",
       "       [0.        , 0.        , 0.25      , 0.        ],\n",
       "       [0.        , 0.        , 0.        , 0.2       ]])"
      ]
     },
     "execution_count": 25,
     "metadata": {},
     "output_type": "execute_result"
    }
   ],
   "source": [
    "A_inv = np.diag([1/2,1/3,1/4,1/5])\n",
    "A_inv"
   ]
  },
  {
   "cell_type": "code",
   "execution_count": 26,
   "id": "80793fa8",
   "metadata": {},
   "outputs": [
    {
     "data": {
      "text/plain": [
       "array([[1., 0., 0., 0.],\n",
       "       [0., 1., 0., 0.],\n",
       "       [0., 0., 1., 0.],\n",
       "       [0., 0., 0., 1.]])"
      ]
     },
     "execution_count": 26,
     "metadata": {},
     "output_type": "execute_result"
    }
   ],
   "source": [
    "identity = A.dot(A_inv)\n",
    "identity"
   ]
  },
  {
   "cell_type": "code",
   "execution_count": 27,
   "id": "265dd948",
   "metadata": {},
   "outputs": [
    {
     "data": {
      "text/plain": [
       "array([[0.5       , 0.        , 0.        , 0.        ],\n",
       "       [0.        , 0.33333333, 0.        , 0.        ],\n",
       "       [0.        , 0.        , 0.25      , 0.        ],\n",
       "       [0.        , 0.        , 0.        , 0.2       ]])"
      ]
     },
     "execution_count": 27,
     "metadata": {},
     "output_type": "execute_result"
    }
   ],
   "source": [
    "A_inv_calc = np.linalg.inv(A)\n",
    "A_inv_calc"
   ]
  },
  {
   "cell_type": "markdown",
   "id": "1b920330",
   "metadata": {},
   "source": [
    "<p><b>It is symmetric when:</b><p>\n",
    "$ A = A^T $\n",
    "    \n",
    "$ (AB)^T = B^TA^T $\n",
    "    \n",
    "$ (AB)^T = BA$"
   ]
  },
  {
   "cell_type": "code",
   "execution_count": 28,
   "id": "15af7c71",
   "metadata": {},
   "outputs": [
    {
     "data": {
      "text/plain": [
       "array([[2, 0, 0, 0],\n",
       "       [0, 3, 0, 0],\n",
       "       [0, 0, 4, 0],\n",
       "       [0, 0, 0, 5]])"
      ]
     },
     "execution_count": 28,
     "metadata": {},
     "output_type": "execute_result"
    }
   ],
   "source": [
    "A.T"
   ]
  },
  {
   "cell_type": "code",
   "execution_count": 29,
   "id": "9ee29b5f",
   "metadata": {},
   "outputs": [
    {
     "data": {
      "text/plain": [
       "array([[2, 0, 0, 0],\n",
       "       [0, 3, 0, 0],\n",
       "       [0, 0, 4, 0],\n",
       "       [0, 0, 0, 5]])"
      ]
     },
     "execution_count": 29,
     "metadata": {},
     "output_type": "execute_result"
    }
   ],
   "source": [
    "A"
   ]
  },
  {
   "cell_type": "code",
   "execution_count": 30,
   "id": "08b437f0",
   "metadata": {},
   "outputs": [
    {
     "data": {
      "text/plain": [
       "array([[ 1,  2,  3],\n",
       "       [ 2, -1,  7],\n",
       "       [ 3,  7, 11]])"
      ]
     },
     "execution_count": 30,
     "metadata": {},
     "output_type": "execute_result"
    }
   ],
   "source": [
    "symmetric = np.array([[1,2,3],\n",
    "                      [2,-1,7],\n",
    "                      [3,7,11]])\n",
    "symmetric"
   ]
  },
  {
   "cell_type": "code",
   "execution_count": 31,
   "id": "4e986dbd",
   "metadata": {},
   "outputs": [
    {
     "data": {
      "text/plain": [
       "array([[ 1,  2,  3],\n",
       "       [ 2, -1,  7],\n",
       "       [ 3,  7, 11]])"
      ]
     },
     "execution_count": 31,
     "metadata": {},
     "output_type": "execute_result"
    }
   ],
   "source": [
    "symmetric.T"
   ]
  },
  {
   "cell_type": "markdown",
   "id": "4161f46f",
   "metadata": {},
   "source": [
    "<h2>Orthogonal vectors</h2>\n",
    "<ul>\n",
    "    <li>Orthogonal with respect to another vector</li>\n",
    "    <li>90 degrees angle</li>\n",
    "    <li>In R2 you can get two orthogonal vectors, in R3 only three, and so on</li>\n",
    "</ul>"
   ]
  },
  {
   "cell_type": "code",
   "execution_count": 32,
   "id": "d7f4a3ca",
   "metadata": {},
   "outputs": [],
   "source": [
    "x = np.array([0,0,2,2])\n",
    "y = np.array([0,0,2,-2])"
   ]
  },
  {
   "cell_type": "code",
   "execution_count": 33,
   "id": "bd7d966b",
   "metadata": {},
   "outputs": [
    {
     "data": {
      "image/png": "[encoded data removed]",
      "text/plain": [
       "<Figure size 432x288 with 1 Axes>"
      ]
     },
     "metadata": {
      "needs_background": "light"
     },
     "output_type": "display_data"
    }
   ],
   "source": [
    "plt.quiver(\n",
    "    [x[0],y[0]],\n",
    "    [x[1],y[1]],\n",
    "    [x[2],y[2]],\n",
    "    [x[3],y[3]],\n",
    "    angles='xy', scale_units = 'xy', scale = 1\n",
    ")\n",
    "plt.xlim(-2,4)\n",
    "plt.ylim(-3,3)\n",
    "\n",
    "plt.show()"
   ]
  },
  {
   "cell_type": "code",
   "execution_count": 34,
   "id": "62075d2f",
   "metadata": {},
   "outputs": [],
   "source": [
    "v1 = np.array([2,2])\n",
    "v2 = np.array([2,-2])"
   ]
  },
  {
   "cell_type": "markdown",
   "id": "8ffd549b",
   "metadata": {},
   "source": [
    "<p><b>90 degrees angle = they are orthogonal to each other</b></p>"
   ]
  },
  {
   "cell_type": "code",
   "execution_count": 35,
   "id": "c43e5265",
   "metadata": {},
   "outputs": [
    {
     "data": {
      "text/plain": [
       "0"
      ]
     },
     "execution_count": 35,
     "metadata": {},
     "output_type": "execute_result"
    }
   ],
   "source": [
    "v1.dot(v2.T)"
   ]
  },
  {
   "cell_type": "markdown",
   "id": "f77d7098",
   "metadata": {},
   "source": [
    "<p><b>They are not orthonormal</b></p>"
   ]
  },
  {
   "cell_type": "code",
   "execution_count": 36,
   "id": "28c93234",
   "metadata": {},
   "outputs": [
    {
     "name": "stdout",
     "output_type": "stream",
     "text": [
      "2.8284271247461903\n",
      "2.8284271247461903\n"
     ]
    }
   ],
   "source": [
    "print(np.linalg.norm(v1))\n",
    "print(np.linalg.norm(v2))"
   ]
  },
  {
   "cell_type": "code",
   "execution_count": 37,
   "id": "3d4ffbd1",
   "metadata": {},
   "outputs": [],
   "source": [
    "v1 = np.array([[1,0]])\n",
    "v2 = np.array([[0,-1]])"
   ]
  },
  {
   "cell_type": "code",
   "execution_count": 38,
   "id": "2530434f",
   "metadata": {},
   "outputs": [
    {
     "data": {
      "text/plain": [
       "array([[0]])"
      ]
     },
     "execution_count": 38,
     "metadata": {},
     "output_type": "execute_result"
    }
   ],
   "source": [
    "v1.dot(v2.T)"
   ]
  },
  {
   "cell_type": "markdown",
   "id": "94b2c376",
   "metadata": {},
   "source": [
    "<p><b>L2 = 1 then they are orthonormal</b></p>"
   ]
  },
  {
   "cell_type": "code",
   "execution_count": 39,
   "id": "cef18d9b",
   "metadata": {},
   "outputs": [
    {
     "name": "stdout",
     "output_type": "stream",
     "text": [
      "1.0\n",
      "1.0\n"
     ]
    }
   ],
   "source": [
    "print(np.linalg.norm(v1))\n",
    "print(np.linalg.norm(v2))"
   ]
  },
  {
   "cell_type": "markdown",
   "id": "98ce98e1",
   "metadata": {},
   "source": [
    "<h2>Orthogonal matrices:properties</h2>\n",
    "<ul>\n",
    "    <li>All columns are orthonormal</li>\n",
    "    <li>All rows are orthonormal</li>\n",
    "    <li>$A^TA=AA^T=ID$</li>\n",
    "    <li>$A^T=A^-1$</li>\n",
    "</ul>\n"
   ]
  },
  {
   "cell_type": "code",
   "execution_count": 40,
   "id": "6194b1f6",
   "metadata": {},
   "outputs": [
    {
     "data": {
      "text/plain": [
       "array([[1, 0, 0],\n",
       "       [0, 1, 0],\n",
       "       [0, 0, 1]])"
      ]
     },
     "execution_count": 40,
     "metadata": {},
     "output_type": "execute_result"
    }
   ],
   "source": [
    "matrix = np.array([[1,0,0],\n",
    "                   [0,1,0],\n",
    "                   [0,0,1]])\n",
    "\n",
    "matrix"
   ]
  },
  {
   "cell_type": "markdown",
   "id": "a24ee3d5",
   "metadata": {},
   "source": [
    "<p><b>Columns</b></p>"
   ]
  },
  {
   "cell_type": "code",
   "execution_count": 41,
   "id": "ec78c060",
   "metadata": {},
   "outputs": [
    {
     "data": {
      "text/plain": [
       "0"
      ]
     },
     "execution_count": 41,
     "metadata": {},
     "output_type": "execute_result"
    }
   ],
   "source": [
    "matrix[:,0].dot(matrix[:,1])"
   ]
  },
  {
   "cell_type": "code",
   "execution_count": 42,
   "id": "9bb722c2",
   "metadata": {},
   "outputs": [
    {
     "data": {
      "text/plain": [
       "0"
      ]
     },
     "execution_count": 42,
     "metadata": {},
     "output_type": "execute_result"
    }
   ],
   "source": [
    "matrix[:,0].dot(matrix[:,2])"
   ]
  },
  {
   "cell_type": "code",
   "execution_count": 43,
   "id": "133ba20a",
   "metadata": {},
   "outputs": [
    {
     "data": {
      "text/plain": [
       "0"
      ]
     },
     "execution_count": 43,
     "metadata": {},
     "output_type": "execute_result"
    }
   ],
   "source": [
    "matrix[:,1].dot(matrix[:,2])"
   ]
  },
  {
   "cell_type": "code",
   "execution_count": 44,
   "id": "65563aef",
   "metadata": {},
   "outputs": [
    {
     "data": {
      "text/plain": [
       "1.0"
      ]
     },
     "execution_count": 44,
     "metadata": {},
     "output_type": "execute_result"
    }
   ],
   "source": [
    "np.linalg.norm(matrix[:,0])"
   ]
  },
  {
   "cell_type": "code",
   "execution_count": 45,
   "id": "ab048e80",
   "metadata": {},
   "outputs": [
    {
     "data": {
      "text/plain": [
       "1.0"
      ]
     },
     "execution_count": 45,
     "metadata": {},
     "output_type": "execute_result"
    }
   ],
   "source": [
    "np.linalg.norm(matrix[:,1])"
   ]
  },
  {
   "cell_type": "code",
   "execution_count": 46,
   "id": "714b3b37",
   "metadata": {},
   "outputs": [
    {
     "data": {
      "text/plain": [
       "1.0"
      ]
     },
     "execution_count": 46,
     "metadata": {},
     "output_type": "execute_result"
    }
   ],
   "source": [
    "np.linalg.norm(matrix[:,2])"
   ]
  },
  {
   "cell_type": "markdown",
   "id": "216ca98d",
   "metadata": {},
   "source": [
    "<p><b>Rows</b></p>"
   ]
  },
  {
   "cell_type": "code",
   "execution_count": 47,
   "id": "2f9e78e3",
   "metadata": {},
   "outputs": [
    {
     "data": {
      "text/plain": [
       "0"
      ]
     },
     "execution_count": 47,
     "metadata": {},
     "output_type": "execute_result"
    }
   ],
   "source": [
    "matrix[0,:].dot(matrix[1,:])"
   ]
  },
  {
   "cell_type": "code",
   "execution_count": 48,
   "id": "79e402db",
   "metadata": {},
   "outputs": [
    {
     "data": {
      "text/plain": [
       "0"
      ]
     },
     "execution_count": 48,
     "metadata": {},
     "output_type": "execute_result"
    }
   ],
   "source": [
    "matrix[0,:].dot(matrix[2,:])"
   ]
  },
  {
   "cell_type": "code",
   "execution_count": 49,
   "id": "41306df8",
   "metadata": {},
   "outputs": [
    {
     "data": {
      "text/plain": [
       "0"
      ]
     },
     "execution_count": 49,
     "metadata": {},
     "output_type": "execute_result"
    }
   ],
   "source": [
    "matrix[1,:].dot(matrix[2,:])"
   ]
  },
  {
   "cell_type": "code",
   "execution_count": 50,
   "id": "59221502",
   "metadata": {},
   "outputs": [
    {
     "data": {
      "text/plain": [
       "1.0"
      ]
     },
     "execution_count": 50,
     "metadata": {},
     "output_type": "execute_result"
    }
   ],
   "source": [
    "np.linalg.norm(matrix[0,:])"
   ]
  },
  {
   "cell_type": "code",
   "execution_count": 51,
   "id": "e409dbff",
   "metadata": {},
   "outputs": [
    {
     "data": {
      "text/plain": [
       "1.0"
      ]
     },
     "execution_count": 51,
     "metadata": {},
     "output_type": "execute_result"
    }
   ],
   "source": [
    "np.linalg.norm(matrix[:,1])"
   ]
  },
  {
   "cell_type": "code",
   "execution_count": 52,
   "id": "b5d176f5",
   "metadata": {},
   "outputs": [
    {
     "data": {
      "text/plain": [
       "1.0"
      ]
     },
     "execution_count": 52,
     "metadata": {},
     "output_type": "execute_result"
    }
   ],
   "source": [
    "np.linalg.norm(matrix[:,2])"
   ]
  },
  {
   "cell_type": "code",
   "execution_count": 53,
   "id": "b2fce558",
   "metadata": {},
   "outputs": [
    {
     "data": {
      "text/plain": [
       "array([[ 0.86231887,  0.50636564],\n",
       "       [-0.50636564,  0.86231887]])"
      ]
     },
     "execution_count": 53,
     "metadata": {},
     "output_type": "execute_result"
    }
   ],
   "source": [
    "A = np.array([[np.cos(100), -np.sin(100)],\n",
    "             [np.sin(100), np.cos(100)]])\n",
    "A"
   ]
  },
  {
   "cell_type": "code",
   "execution_count": 54,
   "id": "aeb52175",
   "metadata": {},
   "outputs": [
    {
     "name": "stdout",
     "output_type": "stream",
     "text": [
      "0.9999999999999999\n",
      "0.9999999999999999\n",
      "0.9999999999999999\n",
      "0.9999999999999999\n"
     ]
    }
   ],
   "source": [
    "print(np.linalg.norm(A[0,:]))\n",
    "print(np.linalg.norm(A[1,:]))\n",
    "print(np.linalg.norm(A[:,0]))\n",
    "print(np.linalg.norm(A[:,1]))"
   ]
  },
  {
   "cell_type": "code",
   "execution_count": 55,
   "id": "f0cfcf7e",
   "metadata": {},
   "outputs": [
    {
     "name": "stdout",
     "output_type": "stream",
     "text": [
      "0.0\n",
      "0.0\n"
     ]
    }
   ],
   "source": [
    "print(A[0,:].dot(A[1,:]))\n",
    "print(A[:,0].dot(A[:,1]))"
   ]
  },
  {
   "cell_type": "markdown",
   "id": "2b2ae2d4",
   "metadata": {},
   "source": [
    "<p>We get <b>ALMOST</b> identity</p>\n",
    "<p>-7.93771519e-18 should be zero</p>"
   ]
  },
  {
   "cell_type": "code",
   "execution_count": 56,
   "id": "d171498a",
   "metadata": {},
   "outputs": [
    {
     "name": "stdout",
     "output_type": "stream",
     "text": [
      "[[ 1.00000000e+00 -7.93771519e-18]\n",
      " [-7.93771519e-18  1.00000000e+00]]\n",
      "[[1.00000000e+00 7.93771519e-18]\n",
      " [7.93771519e-18 1.00000000e+00]]\n"
     ]
    }
   ],
   "source": [
    "A_t = A.T\n",
    "print(A_t.dot(A))\n",
    "print(A.dot(A_t))"
   ]
  },
  {
   "cell_type": "code",
   "execution_count": 57,
   "id": "5fb34b6b",
   "metadata": {},
   "outputs": [
    {
     "data": {
      "text/plain": [
       "array([[ 0.86231887, -0.50636564],\n",
       "       [ 0.50636564,  0.86231887]])"
      ]
     },
     "execution_count": 57,
     "metadata": {},
     "output_type": "execute_result"
    }
   ],
   "source": [
    "A_inv = np.linalg.inv(A)\n",
    "A_inv"
   ]
  },
  {
   "cell_type": "code",
   "execution_count": 58,
   "id": "2197cb6e",
   "metadata": {},
   "outputs": [
    {
     "data": {
      "text/plain": [
       "array([[ 0.86231887, -0.50636564],\n",
       "       [ 0.50636564,  0.86231887]])"
      ]
     },
     "execution_count": 58,
     "metadata": {},
     "output_type": "execute_result"
    }
   ],
   "source": [
    "A_t"
   ]
  },
  {
   "cell_type": "markdown",
   "id": "00c6ebdd",
   "metadata": {},
   "source": [
    "<p><b>It should be undefined as dividing by zero, but -7.93771519e-18 is not zero<b><p>"
   ]
  },
  {
   "cell_type": "code",
   "execution_count": 59,
   "id": "87f8ee39",
   "metadata": {},
   "outputs": [
    {
     "data": {
      "text/plain": [
       "array([[ 1.00000000e+00, -1.25980837e+17],\n",
       "       [-1.25980837e+17,  1.00000000e+00]])"
      ]
     },
     "execution_count": 59,
     "metadata": {},
     "output_type": "execute_result"
    }
   ],
   "source": [
    "1/A_t.dot(A)"
   ]
  },
  {
   "cell_type": "markdown",
   "id": "209df3f9",
   "metadata": {},
   "source": [
    "<h2>Determinant & trace</h2>\n",
    "<ul>\n",
    "    <li>Sum of diagonal</li>\n",
    "</ul>"
   ]
  },
  {
   "cell_type": "code",
   "execution_count": 60,
   "id": "4ab5934c",
   "metadata": {},
   "outputs": [
    {
     "data": {
      "text/plain": [
       "array([[1, 2, 3],\n",
       "       [4, 5, 6],\n",
       "       [7, 8, 9]])"
      ]
     },
     "execution_count": 60,
     "metadata": {},
     "output_type": "execute_result"
    }
   ],
   "source": [
    "matrix = np.array([[1,2,3],\n",
    "                   [4,5,6],\n",
    "                   [7,8,9]])\n",
    "matrix"
   ]
  },
  {
   "cell_type": "code",
   "execution_count": 61,
   "id": "239e893e",
   "metadata": {},
   "outputs": [
    {
     "data": {
      "text/plain": [
       "15"
      ]
     },
     "execution_count": 61,
     "metadata": {},
     "output_type": "execute_result"
    }
   ],
   "source": [
    "trace = np.trace(matrix)\n",
    "trace"
   ]
  },
  {
   "cell_type": "code",
   "execution_count": 62,
   "id": "6df29aef",
   "metadata": {},
   "outputs": [],
   "source": [
    "def vector_viz(vecs, cols, alpha = 1):\n",
    "    plt.figure()\n",
    "    plt.axvline(x=0,color=\"grey\", zorder=0)\n",
    "    plt.axhline(y=0,color=\"grey\", zorder=0)\n",
    "    \n",
    "    for i in range(len(vecs)):\n",
    "        x = np.concatenate([[0,0], vecs[i]])\n",
    "        plt.quiver([x[0]],\n",
    "                   [x[1]],\n",
    "                   [x[2]],\n",
    "                   [x[3]],\n",
    "                   angles = 'xy', scale_units='xy', scale=1,\n",
    "                   color=cols[i],\n",
    "                   alpha=alpha\n",
    "                  )"
   ]
  },
  {
   "cell_type": "code",
   "execution_count": 63,
   "id": "9d554fa5",
   "metadata": {},
   "outputs": [
    {
     "data": {
      "image/png": "[encoded data removed]",
      "text/plain": [
       "<Figure size 432x288 with 1 Axes>"
      ]
     },
     "metadata": {
      "needs_background": "light"
     },
     "output_type": "display_data"
    }
   ],
   "source": [
    "v1 = np.array([0,1])\n",
    "v2 = np.array([1,0])\n",
    "\n",
    "vector_viz([v1,v2],[\"blue\",\"red\"])\n",
    "plt.xlim(-0.25,2)\n",
    "plt.ylim(-0.25,2)\n",
    "plt.show()"
   ]
  },
  {
   "cell_type": "code",
   "execution_count": 64,
   "id": "9be41b1f",
   "metadata": {},
   "outputs": [],
   "source": [
    "#amplify by 2\n",
    "A = np.array([[2,0],[0,2]])"
   ]
  },
  {
   "cell_type": "code",
   "execution_count": 65,
   "id": "f43e5a98",
   "metadata": {},
   "outputs": [
    {
     "data": {
      "image/png": "[encoded data removed]",
      "text/plain": [
       "<Figure size 432x288 with 1 Axes>"
      ]
     },
     "metadata": {
      "needs_background": "light"
     },
     "output_type": "display_data"
    }
   ],
   "source": [
    "v1_transform = A.dot(v1)\n",
    "v2_transform = A.dot(v2)\n",
    "\n",
    "vector_viz([v1_transform,v2_transform],[\"orange\",\"green\"])\n",
    "plt.xlim(-0.25,3)\n",
    "plt.ylim(-0.25,3)\n",
    "plt.show()"
   ]
  },
  {
   "cell_type": "code",
   "execution_count": 66,
   "id": "f8c2233d",
   "metadata": {},
   "outputs": [
    {
     "data": {
      "text/plain": [
       "4.0"
      ]
     },
     "execution_count": 66,
     "metadata": {},
     "output_type": "execute_result"
    }
   ],
   "source": [
    "det_A = np.linalg.det(A)\n",
    "det_A"
   ]
  },
  {
   "cell_type": "code",
   "execution_count": 67,
   "id": "4225a481",
   "metadata": {},
   "outputs": [
    {
     "data": {
      "text/plain": [
       "4"
      ]
     },
     "execution_count": 67,
     "metadata": {},
     "output_type": "execute_result"
    }
   ],
   "source": [
    "area_transform = abs(v1_transform[0] - v2_transform[0]) * abs(v1_transform[1] - v2_transform[1])\n",
    "area_transform"
   ]
  },
  {
   "cell_type": "code",
   "execution_count": 68,
   "id": "761f10da",
   "metadata": {},
   "outputs": [
    {
     "data": {
      "text/plain": [
       "array([[-2,  0],\n",
       "       [ 0,  2]])"
      ]
     },
     "execution_count": 68,
     "metadata": {},
     "output_type": "execute_result"
    }
   ],
   "source": [
    "B = A * [-1,1]\n",
    "B"
   ]
  },
  {
   "cell_type": "code",
   "execution_count": 69,
   "id": "885158ca",
   "metadata": {},
   "outputs": [
    {
     "data": {
      "text/plain": [
       "-4.0"
      ]
     },
     "execution_count": 69,
     "metadata": {},
     "output_type": "execute_result"
    }
   ],
   "source": [
    "det_B = np.linalg.det(B)\n",
    "det_B"
   ]
  },
  {
   "cell_type": "code",
   "execution_count": 70,
   "id": "9ef4d9e5",
   "metadata": {},
   "outputs": [],
   "source": [
    "v1 = np.array([0,1])\n",
    "v2 = np.array([1,0])\n",
    "\n",
    "v1_transform = B.dot(v1)\n",
    "v2_transform = B.dot(v2)\n"
   ]
  },
  {
   "cell_type": "markdown",
   "id": "24d186f9",
   "metadata": {},
   "source": [
    "<p><b>The space has rotated, as a mirror</b></p>"
   ]
  },
  {
   "cell_type": "code",
   "execution_count": 71,
   "id": "0d1de5c3",
   "metadata": {
    "scrolled": true
   },
   "outputs": [
    {
     "data": {
      "image/png": "[encoded data removed]",
      "text/plain": [
       "<Figure size 432x288 with 1 Axes>"
      ]
     },
     "metadata": {
      "needs_background": "light"
     },
     "output_type": "display_data"
    }
   ],
   "source": [
    "vector_viz([v1_transform,v2_transform,v1,v2],[\"blue\",\"red\",\"orange\",\"green\"])\n",
    "plt.xlim(-3,1.5)\n",
    "plt.ylim(-0.5,2.5)\n",
    "plt.show()"
   ]
  }
 ],
 "metadata": {
  "kernelspec": {
   "display_name": "Python 3",
   "language": "python",
   "name": "python3"
  },
  "language_info": {
   "codemirror_mode": {
    "name": "ipython",
    "version": 3
   },
   "file_extension": ".py",
   "mimetype": "text/x-python",
   "name": "python",
   "nbconvert_exporter": "python",
   "pygments_lexer": "ipython3",
   "version": "3.8.10"
  }
 },
 "nbformat": 4,
 "nbformat_minor": 5
}
