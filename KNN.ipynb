{
 "cells": [
  {
   "cell_type": "markdown",
   "id": "47b85a0a",
   "metadata": {},
   "source": [
    "<h1>KNN</h1>"
   ]
  },
  {
   "cell_type": "markdown",
   "id": "70ffb085",
   "metadata": {},
   "source": [
    "<h2>Data challenge</h2>\n",
    "<a>https://challengedata.ens.fr/participants/challenges/15/</a>"
   ]
  },
  {
   "cell_type": "markdown",
   "id": "d123deaf",
   "metadata": {},
   "source": [
    "<h3>helpful sites </h3>"
   ]
  },
  {
   "cell_type": "code",
   "execution_count": null,
   "id": "d5399c0a",
   "metadata": {},
   "outputs": [],
   "source": [
    "#https://realpython.com/knn-python/\n",
    "#https://www.jacobsoft.com.mx/es_mx/k-nearest-neighbors/"
   ]
  },
  {
   "cell_type": "code",
   "execution_count": 211,
   "id": "3ccb48ec",
   "metadata": {},
   "outputs": [],
   "source": [
    "import pandas as pd"
   ]
  },
  {
   "cell_type": "code",
   "execution_count": 212,
   "id": "f79b3bc4",
   "metadata": {},
   "outputs": [],
   "source": [
    "df_raw_train_input = pd.read_csv('./KNN/train_input_2yaM34J.csv')"
   ]
  },
  {
   "cell_type": "code",
   "execution_count": 213,
   "id": "ee4ac849",
   "metadata": {},
   "outputs": [
    {
     "data": {
      "text/html": [
       "<div>\n",
       "<style scoped>\n",
       "    .dataframe tbody tr th:only-of-type {\n",
       "        vertical-align: middle;\n",
       "    }\n",
       "\n",
       "    .dataframe tbody tr th {\n",
       "        vertical-align: top;\n",
       "    }\n",
       "\n",
       "    .dataframe thead th {\n",
       "        text-align: right;\n",
       "    }\n",
       "</style>\n",
       "<table border=\"1\" class=\"dataframe\">\n",
       "  <thead>\n",
       "    <tr style=\"text-align: right;\">\n",
       "      <th></th>\n",
       "      <th>ID</th>\n",
       "      <th>Date</th>\n",
       "      <th>Temperature</th>\n",
       "      <th>Humidity</th>\n",
       "      <th>Humex</th>\n",
       "      <th>CO2</th>\n",
       "      <th>Bright</th>\n",
       "    </tr>\n",
       "  </thead>\n",
       "  <tbody>\n",
       "    <tr>\n",
       "      <th>0</th>\n",
       "      <td>0</td>\n",
       "      <td>2017-08-31 23:30:00</td>\n",
       "      <td>22.7</td>\n",
       "      <td>56.0</td>\n",
       "      <td>25.7</td>\n",
       "      <td>534.0</td>\n",
       "      <td>1.0</td>\n",
       "    </tr>\n",
       "    <tr>\n",
       "      <th>1</th>\n",
       "      <td>1</td>\n",
       "      <td>2017-09-01 00:30:00</td>\n",
       "      <td>22.8</td>\n",
       "      <td>55.0</td>\n",
       "      <td>25.7</td>\n",
       "      <td>506.0</td>\n",
       "      <td>1.0</td>\n",
       "    </tr>\n",
       "    <tr>\n",
       "      <th>2</th>\n",
       "      <td>2</td>\n",
       "      <td>2017-09-01 01:30:00</td>\n",
       "      <td>22.9</td>\n",
       "      <td>55.0</td>\n",
       "      <td>25.9</td>\n",
       "      <td>577.0</td>\n",
       "      <td>1.0</td>\n",
       "    </tr>\n",
       "    <tr>\n",
       "      <th>3</th>\n",
       "      <td>3</td>\n",
       "      <td>2017-09-01 02:30:00</td>\n",
       "      <td>23.0</td>\n",
       "      <td>55.0</td>\n",
       "      <td>26.1</td>\n",
       "      <td>630.0</td>\n",
       "      <td>1.0</td>\n",
       "    </tr>\n",
       "    <tr>\n",
       "      <th>4</th>\n",
       "      <td>4</td>\n",
       "      <td>2017-09-01 03:30:00</td>\n",
       "      <td>23.0</td>\n",
       "      <td>55.0</td>\n",
       "      <td>26.1</td>\n",
       "      <td>643.0</td>\n",
       "      <td>1.0</td>\n",
       "    </tr>\n",
       "  </tbody>\n",
       "</table>\n",
       "</div>"
      ],
      "text/plain": [
       "   ID                 Date  Temperature  Humidity  Humex    CO2  Bright\n",
       "0   0  2017-08-31 23:30:00         22.7      56.0   25.7  534.0     1.0\n",
       "1   1  2017-09-01 00:30:00         22.8      55.0   25.7  506.0     1.0\n",
       "2   2  2017-09-01 01:30:00         22.9      55.0   25.9  577.0     1.0\n",
       "3   3  2017-09-01 02:30:00         23.0      55.0   26.1  630.0     1.0\n",
       "4   4  2017-09-01 03:30:00         23.0      55.0   26.1  643.0     1.0"
      ]
     },
     "execution_count": 213,
     "metadata": {},
     "output_type": "execute_result"
    }
   ],
   "source": [
    "df_raw_train_input.head()"
   ]
  },
  {
   "cell_type": "code",
   "execution_count": 214,
   "id": "de240a65",
   "metadata": {},
   "outputs": [],
   "source": [
    "df_raw_test_input = pd.read_csv('./KNN/test_input_8Vm9H5A.csv')"
   ]
  },
  {
   "cell_type": "code",
   "execution_count": 215,
   "id": "31958698",
   "metadata": {},
   "outputs": [
    {
     "data": {
      "text/html": [
       "<div>\n",
       "<style scoped>\n",
       "    .dataframe tbody tr th:only-of-type {\n",
       "        vertical-align: middle;\n",
       "    }\n",
       "\n",
       "    .dataframe tbody tr th {\n",
       "        vertical-align: top;\n",
       "    }\n",
       "\n",
       "    .dataframe thead th {\n",
       "        text-align: right;\n",
       "    }\n",
       "</style>\n",
       "<table border=\"1\" class=\"dataframe\">\n",
       "  <thead>\n",
       "    <tr style=\"text-align: right;\">\n",
       "      <th></th>\n",
       "      <th>ID</th>\n",
       "      <th>Date</th>\n",
       "      <th>Temperature</th>\n",
       "      <th>Humidity</th>\n",
       "      <th>Humex</th>\n",
       "      <th>CO2</th>\n",
       "      <th>Bright</th>\n",
       "    </tr>\n",
       "  </thead>\n",
       "  <tbody>\n",
       "    <tr>\n",
       "      <th>0</th>\n",
       "      <td>8000</td>\n",
       "      <td>2018-02-18 20:00:00</td>\n",
       "      <td>20.1</td>\n",
       "      <td>26.0</td>\n",
       "      <td>17.9</td>\n",
       "      <td>377.0</td>\n",
       "      <td>1.0</td>\n",
       "    </tr>\n",
       "    <tr>\n",
       "      <th>1</th>\n",
       "      <td>8001</td>\n",
       "      <td>2018-02-18 20:30:00</td>\n",
       "      <td>20.2</td>\n",
       "      <td>26.0</td>\n",
       "      <td>18.0</td>\n",
       "      <td>374.0</td>\n",
       "      <td>1.0</td>\n",
       "    </tr>\n",
       "    <tr>\n",
       "      <th>2</th>\n",
       "      <td>8002</td>\n",
       "      <td>2018-02-18 21:00:00</td>\n",
       "      <td>20.1</td>\n",
       "      <td>26.0</td>\n",
       "      <td>17.9</td>\n",
       "      <td>379.0</td>\n",
       "      <td>1.0</td>\n",
       "    </tr>\n",
       "    <tr>\n",
       "      <th>3</th>\n",
       "      <td>8003</td>\n",
       "      <td>2018-02-18 21:30:00</td>\n",
       "      <td>20.1</td>\n",
       "      <td>26.0</td>\n",
       "      <td>17.9</td>\n",
       "      <td>380.0</td>\n",
       "      <td>1.0</td>\n",
       "    </tr>\n",
       "    <tr>\n",
       "      <th>4</th>\n",
       "      <td>8004</td>\n",
       "      <td>2018-02-18 22:00:00</td>\n",
       "      <td>20.0</td>\n",
       "      <td>26.0</td>\n",
       "      <td>17.8</td>\n",
       "      <td>379.0</td>\n",
       "      <td>1.0</td>\n",
       "    </tr>\n",
       "  </tbody>\n",
       "</table>\n",
       "</div>"
      ],
      "text/plain": [
       "     ID                 Date  Temperature  Humidity  Humex    CO2  Bright\n",
       "0  8000  2018-02-18 20:00:00         20.1      26.0   17.9  377.0     1.0\n",
       "1  8001  2018-02-18 20:30:00         20.2      26.0   18.0  374.0     1.0\n",
       "2  8002  2018-02-18 21:00:00         20.1      26.0   17.9  379.0     1.0\n",
       "3  8003  2018-02-18 21:30:00         20.1      26.0   17.9  380.0     1.0\n",
       "4  8004  2018-02-18 22:00:00         20.0      26.0   17.8  379.0     1.0"
      ]
     },
     "execution_count": 215,
     "metadata": {},
     "output_type": "execute_result"
    }
   ],
   "source": [
    "df_raw_test_input.head()"
   ]
  },
  {
   "cell_type": "code",
   "execution_count": 216,
   "id": "65548a92",
   "metadata": {},
   "outputs": [],
   "source": [
    "df_raw_train_output = pd.read_csv('./KNN/train_output_2kCtjpF.csv')"
   ]
  },
  {
   "cell_type": "markdown",
   "id": "a02f47b8",
   "metadata": {},
   "source": [
    "<h3>Target</h3>"
   ]
  },
  {
   "cell_type": "code",
   "execution_count": 217,
   "id": "4eed8816",
   "metadata": {
    "scrolled": true
   },
   "outputs": [
    {
     "data": {
      "text/html": [
       "<div>\n",
       "<style scoped>\n",
       "    .dataframe tbody tr th:only-of-type {\n",
       "        vertical-align: middle;\n",
       "    }\n",
       "\n",
       "    .dataframe tbody tr th {\n",
       "        vertical-align: top;\n",
       "    }\n",
       "\n",
       "    .dataframe thead th {\n",
       "        text-align: right;\n",
       "    }\n",
       "</style>\n",
       "<table border=\"1\" class=\"dataframe\">\n",
       "  <thead>\n",
       "    <tr style=\"text-align: right;\">\n",
       "      <th></th>\n",
       "      <th>ID</th>\n",
       "      <th>Score</th>\n",
       "    </tr>\n",
       "  </thead>\n",
       "  <tbody>\n",
       "    <tr>\n",
       "      <th>0</th>\n",
       "      <td>0</td>\n",
       "      <td>4.0</td>\n",
       "    </tr>\n",
       "    <tr>\n",
       "      <th>1</th>\n",
       "      <td>1</td>\n",
       "      <td>4.0</td>\n",
       "    </tr>\n",
       "    <tr>\n",
       "      <th>2</th>\n",
       "      <td>2</td>\n",
       "      <td>4.0</td>\n",
       "    </tr>\n",
       "    <tr>\n",
       "      <th>3</th>\n",
       "      <td>3</td>\n",
       "      <td>2.0</td>\n",
       "    </tr>\n",
       "    <tr>\n",
       "      <th>4</th>\n",
       "      <td>4</td>\n",
       "      <td>3.0</td>\n",
       "    </tr>\n",
       "  </tbody>\n",
       "</table>\n",
       "</div>"
      ],
      "text/plain": [
       "   ID  Score\n",
       "0   0    4.0\n",
       "1   1    4.0\n",
       "2   2    4.0\n",
       "3   3    2.0\n",
       "4   4    3.0"
      ]
     },
     "execution_count": 217,
     "metadata": {},
     "output_type": "execute_result"
    }
   ],
   "source": [
    "df_raw_train_output.head()"
   ]
  },
  {
   "cell_type": "markdown",
   "id": "df55ede3",
   "metadata": {},
   "source": [
    "<h3>Feature scaling</h3>"
   ]
  },
  {
   "cell_type": "code",
   "execution_count": 218,
   "id": "8cbf3ae5",
   "metadata": {},
   "outputs": [],
   "source": [
    "def min_max_std(val:float, val_max:float, val_min:float)-> float:\n",
    "    return (val - val_min) / (val_max - val_min)"
   ]
  },
  {
   "cell_type": "code",
   "execution_count": 219,
   "id": "c41aae6d",
   "metadata": {},
   "outputs": [],
   "source": [
    "vr_min = df_raw_train_input[\"Temperature\"].min()\n",
    "vr_max = df_raw_train_input[\"Temperature\"].max()\n",
    "\n",
    "df_train_input_std = df_raw_train_input.copy()\n",
    "df_train_input_std[\"Temperature\"] = df_train_input_std[\"Temperature\"].map(lambda a: min_max_std(a,vr_max,vr_min))\n",
    "\n",
    "vr_min = df_raw_train_input[\"Humidity\"].min()\n",
    "vr_max = df_raw_train_input[\"Humidity\"].max()\n",
    "df_train_input_std[\"Humidity\"] = df_train_input_std[\"Humidity\"].map(lambda a: min_max_std(a,vr_max,vr_min))\n",
    "\n",
    "vr_min = df_raw_train_input[\"Humex\"].min()\n",
    "vr_max = df_raw_train_input[\"Humex\"].max()\n",
    "df_train_input_std[\"Humex\"] = df_train_input_std[\"Humex\"].map(lambda a: min_max_std(a,vr_max,vr_min))\n",
    "\n",
    "vr_min = df_raw_train_input[\"CO2\"].min()\n",
    "vr_max = df_raw_train_input[\"CO2\"].max()\n",
    "df_train_input_std[\"CO2\"] = df_train_input_std[\"CO2\"].map(lambda a: min_max_std(a,vr_max,vr_min))\n",
    "\n",
    "vr_min = df_raw_train_input[\"Bright\"].min()\n",
    "vr_max = df_raw_train_input[\"Bright\"].max()\n",
    "df_train_input_std[\"Bright\"] = df_train_input_std[\"Bright\"].map(lambda a: min_max_std(a,vr_max,vr_min))"
   ]
  },
  {
   "cell_type": "markdown",
   "id": "f48df195",
   "metadata": {},
   "source": [
    "<p>Join features + target</p>"
   ]
  },
  {
   "cell_type": "code",
   "execution_count": 220,
   "id": "159edd0d",
   "metadata": {},
   "outputs": [],
   "source": [
    "df_train_input_std = pd.merge(df_train_input_std,df_raw_train_output, on=\"ID\")"
   ]
  },
  {
   "cell_type": "code",
   "execution_count": 221,
   "id": "9b998812",
   "metadata": {},
   "outputs": [],
   "source": [
    "df_train_input_std[\"Score\"] = df_train_input_std[\"Score\"].astype(int)"
   ]
  },
  {
   "cell_type": "markdown",
   "id": "8ddd77a9",
   "metadata": {},
   "source": [
    "<p>Then I found about StandardScaler</p>"
   ]
  },
  {
   "cell_type": "code",
   "execution_count": 222,
   "id": "5d8f9159",
   "metadata": {},
   "outputs": [],
   "source": [
    "#from sklearn.preprocessing import StandardScaler\n",
    "#sc = StandardScaler()\n",
    "#X_train = sc.fit_transform(X_train)\n",
    "#X_test = sc.transform(X_test)"
   ]
  },
  {
   "cell_type": "markdown",
   "id": "ea2d31eb",
   "metadata": {},
   "source": [
    "<h3>Basic Metrics</h3>"
   ]
  },
  {
   "cell_type": "code",
   "execution_count": 223,
   "id": "52c6471c",
   "metadata": {},
   "outputs": [],
   "source": [
    "import matplotlib.pyplot as plt"
   ]
  },
  {
   "cell_type": "code",
   "execution_count": 224,
   "id": "a5ec9845",
   "metadata": {},
   "outputs": [
    {
     "data": {
      "text/plain": [
       "array([4, 2, 3, 5, 1])"
      ]
     },
     "execution_count": 224,
     "metadata": {},
     "output_type": "execute_result"
    }
   ],
   "source": [
    "df_train_input_std[\"Score\"].unique()"
   ]
  },
  {
   "cell_type": "code",
   "execution_count": 225,
   "id": "2eb1c4de",
   "metadata": {
    "scrolled": false
   },
   "outputs": [
    {
     "data": {
      "image/png": "[encoded data removed]",
      "text/plain": [
       "<Figure size 432x288 with 1 Axes>"
      ]
     },
     "metadata": {
      "needs_background": "light"
     },
     "output_type": "display_data"
    }
   ],
   "source": [
    "df_train_input_std[\"Score\"].hist(bins=5)\n",
    "plt.show()"
   ]
  },
  {
   "cell_type": "code",
   "execution_count": 226,
   "id": "65739fd3",
   "metadata": {},
   "outputs": [
    {
     "data": {
      "text/plain": [
       "Temperature    0.028900\n",
       "Humidity       0.541904\n",
       "Humex          0.287406\n",
       "CO2           -0.172919\n",
       "Bright        -0.024523\n",
       "Score          1.000000\n",
       "Name: Score, dtype: float64"
      ]
     },
     "execution_count": 226,
     "metadata": {},
     "output_type": "execute_result"
    }
   ],
   "source": [
    "correlation_matrix  = df_train_input_std[[\"Temperature\",\"Humidity\",\"Humex\",\"CO2\",\"Bright\",\"Score\"]].corr()\n",
    "correlation_matrix[\"Score\"]"
   ]
  },
  {
   "cell_type": "code",
   "execution_count": 227,
   "id": "a25235dc",
   "metadata": {
    "scrolled": true
   },
   "outputs": [],
   "source": [
    "X = df_train_input_std[[\"Temperature\",\"Humidity\",\"Humex\",\"CO2\",\"Bright\"]].values\n",
    "Y = df_train_input_std[\"Score\"].values"
   ]
  },
  {
   "cell_type": "markdown",
   "id": "6b6bc0a1",
   "metadata": {},
   "source": [
    "<h2>Training Model</h2>"
   ]
  },
  {
   "cell_type": "code",
   "execution_count": 228,
   "id": "d8ccdfc0",
   "metadata": {},
   "outputs": [],
   "source": [
    "from sklearn.model_selection import train_test_split"
   ]
  },
  {
   "cell_type": "code",
   "execution_count": 229,
   "id": "30caaaac",
   "metadata": {},
   "outputs": [],
   "source": [
    "X_train, X_test, y_train, y_test = train_test_split(X, Y, \n",
    "                                                    test_size = 0.25, \n",
    "                                                    random_state = 0)"
   ]
  },
  {
   "cell_type": "code",
   "execution_count": 230,
   "id": "c9288022",
   "metadata": {},
   "outputs": [],
   "source": [
    "def model_error(y_train, train_preds, y_test, test_preds):\n",
    "    cnt_error = 0\n",
    "    for i in range(len(y_train)):\n",
    "        if not y_train[i] == train_preds[i]:\n",
    "            cnt_error += 1\n",
    "\n",
    "    error_train = (cnt_error / len(y_train)) * 100 \n",
    "    \n",
    "    cnt_error = 0\n",
    "    for i in range(len(y_test)):\n",
    "        if not y_test[i] == test_preds[i]:\n",
    "            cnt_error += 1\n",
    "\n",
    "    error_test = (cnt_error / len(y_test)) * 100  \n",
    "    \n",
    "    return { 'error_train':error_train, 'error_test':error_test }"
   ]
  },
  {
   "cell_type": "code",
   "execution_count": 231,
   "id": "14e0e4b5",
   "metadata": {},
   "outputs": [],
   "source": [
    "from sklearn.neighbors import KNeighborsClassifier"
   ]
  },
  {
   "cell_type": "code",
   "execution_count": 232,
   "id": "cd552016",
   "metadata": {
    "scrolled": true
   },
   "outputs": [
    {
     "name": "stdout",
     "output_type": "stream",
     "text": [
      "{'error_train': 0.5833333333333334, 'error_test': 42.9}\n",
      "{'error_train': 21.65, 'error_test': 42.449999999999996}\n",
      "{'error_train': 22.733333333333334, 'error_test': 37.3}\n",
      "{'error_train': 24.516666666666666, 'error_test': 33.2}\n",
      "{'error_train': 25.25, 'error_test': 32.75}\n",
      "{'error_train': 25.966666666666665, 'error_test': 31.8}\n",
      "{'error_train': 26.116666666666667, 'error_test': 30.9}\n",
      "{'error_train': 26.6, 'error_test': 30.85}\n",
      "{'error_train': 26.766666666666666, 'error_test': 29.799999999999997}\n",
      "{'error_train': 27.200000000000003, 'error_test': 29.65}\n",
      "{'error_train': 27.266666666666666, 'error_test': 29.049999999999997}\n",
      "{'error_train': 27.416666666666668, 'error_test': 29.15}\n",
      "{'error_train': 27.6, 'error_test': 28.799999999999997}\n",
      "{'error_train': 27.750000000000004, 'error_test': 28.999999999999996}\n",
      "{'error_train': 27.85, 'error_test': 28.549999999999997}\n",
      "{'error_train': 28.000000000000004, 'error_test': 28.999999999999996}\n",
      "{'error_train': 28.166666666666668, 'error_test': 28.65}\n",
      "{'error_train': 28.333333333333332, 'error_test': 28.65}\n",
      "{'error_train': 28.299999999999997, 'error_test': 29.049999999999997}\n"
     ]
    }
   ],
   "source": [
    "for n in range(1,20):    \n",
    "    classifier = KNeighborsClassifier(n_neighbors = n, metric = 'minkowski', p = 2)\n",
    "    classifier.fit(X_train, y_train)\n",
    "    train_preds = classifier.predict(X_train)\n",
    "    test_preds = classifier.predict(X_test)\n",
    "    dic_errores = model_error(y_train, train_preds, y_test, test_preds)\n",
    "    print(dic_errores)"
   ]
  },
  {
   "cell_type": "markdown",
   "id": "7a250b31",
   "metadata": {},
   "source": [
    "<h2>Getting the best parameters with Grid Search</h2>"
   ]
  },
  {
   "cell_type": "code",
   "execution_count": 233,
   "id": "adc21188",
   "metadata": {},
   "outputs": [],
   "source": [
    "from sklearn.model_selection import GridSearchCV"
   ]
  },
  {
   "cell_type": "code",
   "execution_count": 234,
   "id": "5db67f18",
   "metadata": {},
   "outputs": [
    {
     "data": {
      "text/plain": [
       "GridSearchCV(estimator=KNeighborsClassifier(),\n",
       "             param_grid={'n_neighbors': range(1, 50),\n",
       "                         'weights': ['uniform', 'distance']})"
      ]
     },
     "execution_count": 234,
     "metadata": {},
     "output_type": "execute_result"
    }
   ],
   "source": [
    "parameters = {'n_neighbors': range(1, 50), 'weights': ['uniform', 'distance']}\n",
    "gridsearch = GridSearchCV(KNeighborsClassifier(), parameters)\n",
    "gridsearch.fit(X_train, y_train)"
   ]
  },
  {
   "cell_type": "code",
   "execution_count": 235,
   "id": "cf00db8c",
   "metadata": {},
   "outputs": [
    {
     "data": {
      "text/plain": [
       "{'n_neighbors': 24, 'weights': 'uniform'}"
      ]
     },
     "execution_count": 235,
     "metadata": {},
     "output_type": "execute_result"
    }
   ],
   "source": [
    "gridsearch.best_params_"
   ]
  },
  {
   "cell_type": "code",
   "execution_count": 236,
   "id": "7a96bf8d",
   "metadata": {},
   "outputs": [
    {
     "name": "stdout",
     "output_type": "stream",
     "text": [
      "{'error_train': 28.599999999999998, 'error_test': 28.499999999999996}\n"
     ]
    }
   ],
   "source": [
    "classifier = KNeighborsClassifier(n_neighbors = 24, weights = 'uniform' )\n",
    "classifier.fit(X_train, y_train)\n",
    "train_preds = classifier.predict(X_train)\n",
    "test_preds = classifier.predict(X_test)\n",
    "dic_errores = model_error(y_train, train_preds, y_test, test_preds)\n",
    "print(dic_errores)"
   ]
  },
  {
   "cell_type": "markdown",
   "id": "33b94d86",
   "metadata": {},
   "source": [
    "<h2>Visual Validation</h2>"
   ]
  },
  {
   "cell_type": "markdown",
   "id": "a59c0def",
   "metadata": {},
   "source": [
    "<b>x = Humidity, y= Humex. Two features more correlated to Target</b>"
   ]
  },
  {
   "cell_type": "code",
   "execution_count": 237,
   "id": "6fd5e0a1",
   "metadata": {},
   "outputs": [],
   "source": [
    "import seaborn as sns"
   ]
  },
  {
   "cell_type": "code",
   "execution_count": 238,
   "id": "5de81df7",
   "metadata": {
    "scrolled": false
   },
   "outputs": [
    {
     "data": {
      "image/png": "[encoded data removed]",
      "text/plain": [
       "<Figure size 432x288 with 2 Axes>"
      ]
     },
     "metadata": {
      "needs_background": "light"
     },
     "output_type": "display_data"
    }
   ],
   "source": [
    "cmap = sns.cubehelix_palette(as_cmap=True)\n",
    "f, ax = plt.subplots()\n",
    "points = ax.scatter(\n",
    "    X_test[:, 1], X_test[:, 2], c=test_preds, s=50, cmap=cmap\n",
    ")\n",
    "f.colorbar(points)\n",
    "plt.show()"
   ]
  },
  {
   "cell_type": "code",
   "execution_count": 239,
   "id": "35f48463",
   "metadata": {},
   "outputs": [
    {
     "data": {
      "image/png": "[encoded data removed]",
      "text/plain": [
       "<Figure size 432x288 with 2 Axes>"
      ]
     },
     "metadata": {
      "needs_background": "light"
     },
     "output_type": "display_data"
    }
   ],
   "source": [
    "cmap = sns.cubehelix_palette(as_cmap=True)\n",
    "f, ax = plt.subplots()\n",
    "points = ax.scatter(\n",
    "    X_test[:, 1], X_test[:, 2], c=y_test, s=50, cmap=cmap\n",
    ")\n",
    "f.colorbar(points)\n",
    "plt.show()"
   ]
  }
 ],
 "metadata": {
  "kernelspec": {
   "display_name": "Python 3",
   "language": "python",
   "name": "python3"
  },
  "language_info": {
   "codemirror_mode": {
    "name": "ipython",
    "version": 3
   },
   "file_extension": ".py",
   "mimetype": "text/x-python",
   "name": "python",
   "nbconvert_exporter": "python",
   "pygments_lexer": "ipython3",
   "version": "3.8.10"
  }
 },
 "nbformat": 4,
 "nbformat_minor": 5
}
