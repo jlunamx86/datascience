{
 "cells": [
  {
   "cell_type": "markdown",
   "id": "47b85a0a",
   "metadata": {},
   "source": [
    "<h1>K-Means</h1>"
   ]
  },
  {
   "cell_type": "markdown",
   "id": "70ffb085",
   "metadata": {},
   "source": [
    "<h2>Data challenge</h2>\n",
    "<a>https://challengedata.ens.fr/participants/challenges/15/</a>"
   ]
  },
  {
   "cell_type": "code",
   "execution_count": 20,
   "id": "3ccb48ec",
   "metadata": {},
   "outputs": [],
   "source": [
    "import pandas as pd"
   ]
  },
  {
   "cell_type": "code",
   "execution_count": 21,
   "id": "f79b3bc4",
   "metadata": {},
   "outputs": [],
   "source": [
    "df_raw_train_input = pd.read_csv('./KNN/train_input_2yaM34J.csv')"
   ]
  },
  {
   "cell_type": "code",
   "execution_count": 22,
   "id": "ee4ac849",
   "metadata": {},
   "outputs": [
    {
     "data": {
      "text/html": [
       "<div>\n",
       "<style scoped>\n",
       "    .dataframe tbody tr th:only-of-type {\n",
       "        vertical-align: middle;\n",
       "    }\n",
       "\n",
       "    .dataframe tbody tr th {\n",
       "        vertical-align: top;\n",
       "    }\n",
       "\n",
       "    .dataframe thead th {\n",
       "        text-align: right;\n",
       "    }\n",
       "</style>\n",
       "<table border=\"1\" class=\"dataframe\">\n",
       "  <thead>\n",
       "    <tr style=\"text-align: right;\">\n",
       "      <th></th>\n",
       "      <th>ID</th>\n",
       "      <th>Date</th>\n",
       "      <th>Temperature</th>\n",
       "      <th>Humidity</th>\n",
       "      <th>Humex</th>\n",
       "      <th>CO2</th>\n",
       "      <th>Bright</th>\n",
       "    </tr>\n",
       "  </thead>\n",
       "  <tbody>\n",
       "    <tr>\n",
       "      <th>0</th>\n",
       "      <td>0</td>\n",
       "      <td>2017-08-31 23:30:00</td>\n",
       "      <td>22.7</td>\n",
       "      <td>56.0</td>\n",
       "      <td>25.7</td>\n",
       "      <td>534.0</td>\n",
       "      <td>1.0</td>\n",
       "    </tr>\n",
       "    <tr>\n",
       "      <th>1</th>\n",
       "      <td>1</td>\n",
       "      <td>2017-09-01 00:30:00</td>\n",
       "      <td>22.8</td>\n",
       "      <td>55.0</td>\n",
       "      <td>25.7</td>\n",
       "      <td>506.0</td>\n",
       "      <td>1.0</td>\n",
       "    </tr>\n",
       "    <tr>\n",
       "      <th>2</th>\n",
       "      <td>2</td>\n",
       "      <td>2017-09-01 01:30:00</td>\n",
       "      <td>22.9</td>\n",
       "      <td>55.0</td>\n",
       "      <td>25.9</td>\n",
       "      <td>577.0</td>\n",
       "      <td>1.0</td>\n",
       "    </tr>\n",
       "    <tr>\n",
       "      <th>3</th>\n",
       "      <td>3</td>\n",
       "      <td>2017-09-01 02:30:00</td>\n",
       "      <td>23.0</td>\n",
       "      <td>55.0</td>\n",
       "      <td>26.1</td>\n",
       "      <td>630.0</td>\n",
       "      <td>1.0</td>\n",
       "    </tr>\n",
       "    <tr>\n",
       "      <th>4</th>\n",
       "      <td>4</td>\n",
       "      <td>2017-09-01 03:30:00</td>\n",
       "      <td>23.0</td>\n",
       "      <td>55.0</td>\n",
       "      <td>26.1</td>\n",
       "      <td>643.0</td>\n",
       "      <td>1.0</td>\n",
       "    </tr>\n",
       "  </tbody>\n",
       "</table>\n",
       "</div>"
      ],
      "text/plain": [
       "   ID                 Date  Temperature  Humidity  Humex    CO2  Bright\n",
       "0   0  2017-08-31 23:30:00         22.7      56.0   25.7  534.0     1.0\n",
       "1   1  2017-09-01 00:30:00         22.8      55.0   25.7  506.0     1.0\n",
       "2   2  2017-09-01 01:30:00         22.9      55.0   25.9  577.0     1.0\n",
       "3   3  2017-09-01 02:30:00         23.0      55.0   26.1  630.0     1.0\n",
       "4   4  2017-09-01 03:30:00         23.0      55.0   26.1  643.0     1.0"
      ]
     },
     "execution_count": 22,
     "metadata": {},
     "output_type": "execute_result"
    }
   ],
   "source": [
    "df_raw_train_input.head()"
   ]
  },
  {
   "cell_type": "code",
   "execution_count": 23,
   "id": "de240a65",
   "metadata": {},
   "outputs": [],
   "source": [
    "df_raw_test_input = pd.read_csv('./KNN/test_input_8Vm9H5A.csv')"
   ]
  },
  {
   "cell_type": "code",
   "execution_count": 24,
   "id": "31958698",
   "metadata": {},
   "outputs": [
    {
     "data": {
      "text/html": [
       "<div>\n",
       "<style scoped>\n",
       "    .dataframe tbody tr th:only-of-type {\n",
       "        vertical-align: middle;\n",
       "    }\n",
       "\n",
       "    .dataframe tbody tr th {\n",
       "        vertical-align: top;\n",
       "    }\n",
       "\n",
       "    .dataframe thead th {\n",
       "        text-align: right;\n",
       "    }\n",
       "</style>\n",
       "<table border=\"1\" class=\"dataframe\">\n",
       "  <thead>\n",
       "    <tr style=\"text-align: right;\">\n",
       "      <th></th>\n",
       "      <th>ID</th>\n",
       "      <th>Date</th>\n",
       "      <th>Temperature</th>\n",
       "      <th>Humidity</th>\n",
       "      <th>Humex</th>\n",
       "      <th>CO2</th>\n",
       "      <th>Bright</th>\n",
       "    </tr>\n",
       "  </thead>\n",
       "  <tbody>\n",
       "    <tr>\n",
       "      <th>0</th>\n",
       "      <td>8000</td>\n",
       "      <td>2018-02-18 20:00:00</td>\n",
       "      <td>20.1</td>\n",
       "      <td>26.0</td>\n",
       "      <td>17.9</td>\n",
       "      <td>377.0</td>\n",
       "      <td>1.0</td>\n",
       "    </tr>\n",
       "    <tr>\n",
       "      <th>1</th>\n",
       "      <td>8001</td>\n",
       "      <td>2018-02-18 20:30:00</td>\n",
       "      <td>20.2</td>\n",
       "      <td>26.0</td>\n",
       "      <td>18.0</td>\n",
       "      <td>374.0</td>\n",
       "      <td>1.0</td>\n",
       "    </tr>\n",
       "    <tr>\n",
       "      <th>2</th>\n",
       "      <td>8002</td>\n",
       "      <td>2018-02-18 21:00:00</td>\n",
       "      <td>20.1</td>\n",
       "      <td>26.0</td>\n",
       "      <td>17.9</td>\n",
       "      <td>379.0</td>\n",
       "      <td>1.0</td>\n",
       "    </tr>\n",
       "    <tr>\n",
       "      <th>3</th>\n",
       "      <td>8003</td>\n",
       "      <td>2018-02-18 21:30:00</td>\n",
       "      <td>20.1</td>\n",
       "      <td>26.0</td>\n",
       "      <td>17.9</td>\n",
       "      <td>380.0</td>\n",
       "      <td>1.0</td>\n",
       "    </tr>\n",
       "    <tr>\n",
       "      <th>4</th>\n",
       "      <td>8004</td>\n",
       "      <td>2018-02-18 22:00:00</td>\n",
       "      <td>20.0</td>\n",
       "      <td>26.0</td>\n",
       "      <td>17.8</td>\n",
       "      <td>379.0</td>\n",
       "      <td>1.0</td>\n",
       "    </tr>\n",
       "  </tbody>\n",
       "</table>\n",
       "</div>"
      ],
      "text/plain": [
       "     ID                 Date  Temperature  Humidity  Humex    CO2  Bright\n",
       "0  8000  2018-02-18 20:00:00         20.1      26.0   17.9  377.0     1.0\n",
       "1  8001  2018-02-18 20:30:00         20.2      26.0   18.0  374.0     1.0\n",
       "2  8002  2018-02-18 21:00:00         20.1      26.0   17.9  379.0     1.0\n",
       "3  8003  2018-02-18 21:30:00         20.1      26.0   17.9  380.0     1.0\n",
       "4  8004  2018-02-18 22:00:00         20.0      26.0   17.8  379.0     1.0"
      ]
     },
     "execution_count": 24,
     "metadata": {},
     "output_type": "execute_result"
    }
   ],
   "source": [
    "df_raw_test_input.head()"
   ]
  },
  {
   "cell_type": "code",
   "execution_count": 25,
   "id": "65548a92",
   "metadata": {},
   "outputs": [],
   "source": [
    "df_raw_train_output = pd.read_csv('./KNN/train_output_2kCtjpF.csv')"
   ]
  },
  {
   "cell_type": "markdown",
   "id": "df55ede3",
   "metadata": {},
   "source": [
    "<h3>Feature scaling</h3>"
   ]
  },
  {
   "cell_type": "code",
   "execution_count": 26,
   "id": "8cbf3ae5",
   "metadata": {},
   "outputs": [],
   "source": [
    "def min_max_std(val:float, val_max:float, val_min:float)-> float:\n",
    "    return (val - val_min) / (val_max - val_min)"
   ]
  },
  {
   "cell_type": "code",
   "execution_count": 27,
   "id": "c41aae6d",
   "metadata": {},
   "outputs": [],
   "source": [
    "vr_min = df_raw_train_input[\"Temperature\"].min()\n",
    "vr_max = df_raw_train_input[\"Temperature\"].max()\n",
    "\n",
    "df_train_input_std = df_raw_train_input.copy()\n",
    "df_train_input_std[\"Temperature\"] = df_train_input_std[\"Temperature\"].map(lambda a: min_max_std(a,vr_max,vr_min))\n",
    "\n",
    "vr_min = df_raw_train_input[\"Humidity\"].min()\n",
    "vr_max = df_raw_train_input[\"Humidity\"].max()\n",
    "df_train_input_std[\"Humidity\"] = df_train_input_std[\"Humidity\"].map(lambda a: min_max_std(a,vr_max,vr_min))\n",
    "\n",
    "vr_min = df_raw_train_input[\"Humex\"].min()\n",
    "vr_max = df_raw_train_input[\"Humex\"].max()\n",
    "df_train_input_std[\"Humex\"] = df_train_input_std[\"Humex\"].map(lambda a: min_max_std(a,vr_max,vr_min))\n",
    "\n",
    "vr_min = df_raw_train_input[\"CO2\"].min()\n",
    "vr_max = df_raw_train_input[\"CO2\"].max()\n",
    "df_train_input_std[\"CO2\"] = df_train_input_std[\"CO2\"].map(lambda a: min_max_std(a,vr_max,vr_min))\n",
    "\n",
    "vr_min = df_raw_train_input[\"Bright\"].min()\n",
    "vr_max = df_raw_train_input[\"Bright\"].max()\n",
    "df_train_input_std[\"Bright\"] = df_train_input_std[\"Bright\"].map(lambda a: min_max_std(a,vr_max,vr_min))"
   ]
  },
  {
   "cell_type": "markdown",
   "id": "8ddd77a9",
   "metadata": {},
   "source": [
    "<p>Then I found about StandardScaler</p>"
   ]
  },
  {
   "cell_type": "code",
   "execution_count": 28,
   "id": "5d8f9159",
   "metadata": {},
   "outputs": [],
   "source": [
    "#from sklearn.preprocessing import StandardScaler\n",
    "#sc = StandardScaler()\n",
    "#X_train = sc.fit_transform(X_train)\n",
    "#X_test = sc.transform(X_test)"
   ]
  },
  {
   "cell_type": "markdown",
   "id": "ea2d31eb",
   "metadata": {},
   "source": [
    "<h3>Basic Metrics</h3>"
   ]
  },
  {
   "cell_type": "code",
   "execution_count": 29,
   "id": "2eb1c4de",
   "metadata": {
    "scrolled": true
   },
   "outputs": [
    {
     "data": {
      "text/html": [
       "<div>\n",
       "<style scoped>\n",
       "    .dataframe tbody tr th:only-of-type {\n",
       "        vertical-align: middle;\n",
       "    }\n",
       "\n",
       "    .dataframe tbody tr th {\n",
       "        vertical-align: top;\n",
       "    }\n",
       "\n",
       "    .dataframe thead th {\n",
       "        text-align: right;\n",
       "    }\n",
       "</style>\n",
       "<table border=\"1\" class=\"dataframe\">\n",
       "  <thead>\n",
       "    <tr style=\"text-align: right;\">\n",
       "      <th></th>\n",
       "      <th>Temperature</th>\n",
       "      <th>Humidity</th>\n",
       "      <th>Humex</th>\n",
       "      <th>CO2</th>\n",
       "      <th>Bright</th>\n",
       "    </tr>\n",
       "  </thead>\n",
       "  <tbody>\n",
       "    <tr>\n",
       "      <th>count</th>\n",
       "      <td>8000.000000</td>\n",
       "      <td>8000.000000</td>\n",
       "      <td>8000.000000</td>\n",
       "      <td>8000.000000</td>\n",
       "      <td>8000.000000</td>\n",
       "    </tr>\n",
       "    <tr>\n",
       "      <th>mean</th>\n",
       "      <td>0.485130</td>\n",
       "      <td>0.423589</td>\n",
       "      <td>0.431853</td>\n",
       "      <td>0.124776</td>\n",
       "      <td>0.046080</td>\n",
       "    </tr>\n",
       "    <tr>\n",
       "      <th>std</th>\n",
       "      <td>0.156064</td>\n",
       "      <td>0.196216</td>\n",
       "      <td>0.155361</td>\n",
       "      <td>0.112143</td>\n",
       "      <td>0.087237</td>\n",
       "    </tr>\n",
       "    <tr>\n",
       "      <th>min</th>\n",
       "      <td>0.000000</td>\n",
       "      <td>0.000000</td>\n",
       "      <td>0.000000</td>\n",
       "      <td>0.000000</td>\n",
       "      <td>0.000000</td>\n",
       "    </tr>\n",
       "    <tr>\n",
       "      <th>25%</th>\n",
       "      <td>0.403846</td>\n",
       "      <td>0.261905</td>\n",
       "      <td>0.337349</td>\n",
       "      <td>0.050360</td>\n",
       "      <td>0.000000</td>\n",
       "    </tr>\n",
       "    <tr>\n",
       "      <th>50%</th>\n",
       "      <td>0.509615</td>\n",
       "      <td>0.404762</td>\n",
       "      <td>0.439759</td>\n",
       "      <td>0.073049</td>\n",
       "      <td>0.000000</td>\n",
       "    </tr>\n",
       "    <tr>\n",
       "      <th>75%</th>\n",
       "      <td>0.596154</td>\n",
       "      <td>0.595238</td>\n",
       "      <td>0.530120</td>\n",
       "      <td>0.183868</td>\n",
       "      <td>0.064699</td>\n",
       "    </tr>\n",
       "    <tr>\n",
       "      <th>max</th>\n",
       "      <td>1.000000</td>\n",
       "      <td>1.000000</td>\n",
       "      <td>1.000000</td>\n",
       "      <td>1.000000</td>\n",
       "      <td>1.000000</td>\n",
       "    </tr>\n",
       "  </tbody>\n",
       "</table>\n",
       "</div>"
      ],
      "text/plain": [
       "       Temperature     Humidity        Humex          CO2       Bright\n",
       "count  8000.000000  8000.000000  8000.000000  8000.000000  8000.000000\n",
       "mean      0.485130     0.423589     0.431853     0.124776     0.046080\n",
       "std       0.156064     0.196216     0.155361     0.112143     0.087237\n",
       "min       0.000000     0.000000     0.000000     0.000000     0.000000\n",
       "25%       0.403846     0.261905     0.337349     0.050360     0.000000\n",
       "50%       0.509615     0.404762     0.439759     0.073049     0.000000\n",
       "75%       0.596154     0.595238     0.530120     0.183868     0.064699\n",
       "max       1.000000     1.000000     1.000000     1.000000     1.000000"
      ]
     },
     "execution_count": 29,
     "metadata": {},
     "output_type": "execute_result"
    }
   ],
   "source": [
    "df_train_input_std[[\"Temperature\",\"Humidity\",\"Humex\",\"CO2\",\"Bright\"]].describe()"
   ]
  },
  {
   "cell_type": "code",
   "execution_count": 30,
   "id": "a25235dc",
   "metadata": {
    "scrolled": true
   },
   "outputs": [],
   "source": [
    "X = df_train_input_std[[\"Temperature\",\"Humidity\",\"Humex\",\"CO2\",\"Bright\"]].values"
   ]
  },
  {
   "cell_type": "markdown",
   "id": "8e1a2e27",
   "metadata": {},
   "source": [
    "<h3>Get Optimal K</h3>"
   ]
  },
  {
   "cell_type": "code",
   "execution_count": 63,
   "id": "129f3a8b",
   "metadata": {},
   "outputs": [],
   "source": [
    "import matplotlib.pyplot as plt\n",
    "import seaborn as sb\n",
    "from sklearn.cluster import KMeans\n",
    "from sklearn.metrics import pairwise_distances_argmin_min"
   ]
  },
  {
   "cell_type": "code",
   "execution_count": 64,
   "id": "99c43573",
   "metadata": {},
   "outputs": [
    {
     "data": {
      "image/png": "[encoded data removed]",
      "text/plain": [
       "<Figure size 432x288 with 1 Axes>"
      ]
     },
     "metadata": {
      "needs_background": "light"
     },
     "output_type": "display_data"
    }
   ],
   "source": [
    "Nc = range(1, 20)\n",
    "kmeans = [KMeans(n_clusters=i) for i in Nc]\n",
    "kmeans\n",
    "score = [kmeans[i].fit(X).score(X) for i in range(len(kmeans))]\n",
    "score\n",
    "plt.plot(Nc,score)\n",
    "plt.xlabel('Number of Clusters')\n",
    "plt.ylabel('Score')\n",
    "plt.title('Elbow Curve')\n",
    "plt.show()"
   ]
  },
  {
   "cell_type": "code",
   "execution_count": 67,
   "id": "3d2a3dd2",
   "metadata": {},
   "outputs": [
    {
     "name": "stdout",
     "output_type": "stream",
     "text": [
      "[[0.53375587 0.24600425 0.39840958 0.08882209 0.01529818]\n",
      " [0.42993793 0.60344449 0.45307455 0.06584416 0.02137014]\n",
      " [0.58759077 0.33100609 0.4759791  0.30435663 0.12863221]\n",
      " [0.63056894 0.64912369 0.64918223 0.17090702 0.08798539]\n",
      " [0.22665862 0.34013097 0.19176257 0.05359328 0.01288368]]\n"
     ]
    }
   ],
   "source": [
    "kmeans = KMeans(n_clusters=5).fit(X)\n",
    "centroids = kmeans.cluster_centers_\n",
    "print(centroids)"
   ]
  },
  {
   "cell_type": "code",
   "execution_count": 68,
   "id": "5c568647",
   "metadata": {},
   "outputs": [
    {
     "data": {
      "image/png": "[encoded data removed]",
      "text/plain": [
       "<Figure size 432x288 with 1 Axes>"
      ]
     },
     "metadata": {
      "needs_background": "light"
     },
     "output_type": "display_data"
    }
   ],
   "source": [
    "%matplotlib inline\n",
    "from mpl_toolkits.mplot3d import Axes3D\n",
    "\n",
    "labels = kmeans.predict(X)\n",
    "# Getting the cluster centers\n",
    "C = kmeans.cluster_centers_\n",
    "colores=['red','green','blue','cyan','yellow']\n",
    "asignar=[]\n",
    "for row in labels:\n",
    "    asignar.append(colores[row])\n",
    "\n",
    "fig = plt.figure()\n",
    "ax = Axes3D(fig)\n",
    "#Humidity, Humex & CO2\n",
    "ax.scatter(X[:, 1], X[:, 2], X[:, 3], c=asignar)\n",
    "ax.scatter(C[:, 1], C[:, 2], C[:, 3], marker='*', c=colores)\n",
    "ax.set_xlabel('Humidity')\n",
    "ax.set_ylabel('Humex')\n",
    "ax.set_zlabel('CO2')\n",
    "plt.show()"
   ]
  },
  {
   "cell_type": "markdown",
   "id": "cefa3173",
   "metadata": {},
   "source": [
    "<h3>New Data</h3>"
   ]
  },
  {
   "cell_type": "code",
   "execution_count": 69,
   "id": "2a905ac0",
   "metadata": {
    "scrolled": true
   },
   "outputs": [],
   "source": [
    "from sklearn.preprocessing import MinMaxScaler\n",
    "min_max_scaler = MinMaxScaler()"
   ]
  },
  {
   "cell_type": "code",
   "execution_count": 55,
   "id": "b1c7b6ce",
   "metadata": {},
   "outputs": [],
   "source": [
    "X_test = min_max_scaler.fit_transform(df_raw_test_input[[\"Temperature\",\"Humidity\",\"Humex\",\"CO2\",\"Bright\"]])"
   ]
  },
  {
   "cell_type": "code",
   "execution_count": 57,
   "id": "aede48db",
   "metadata": {},
   "outputs": [
    {
     "name": "stdout",
     "output_type": "stream",
     "text": [
      "[3 3 3 ... 3 3 3]\n"
     ]
    }
   ],
   "source": [
    "new_labels = kmeans.predict(X_test)\n",
    "print(new_labels)"
   ]
  }
 ],
 "metadata": {
  "kernelspec": {
   "display_name": "Python 3",
   "language": "python",
   "name": "python3"
  },
  "language_info": {
   "codemirror_mode": {
    "name": "ipython",
    "version": 3
   },
   "file_extension": ".py",
   "mimetype": "text/x-python",
   "name": "python",
   "nbconvert_exporter": "python",
   "pygments_lexer": "ipython3",
   "version": "3.8.10"
  }
 },
 "nbformat": 4,
 "nbformat_minor": 5
}
