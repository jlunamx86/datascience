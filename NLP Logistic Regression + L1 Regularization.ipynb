{
 "cells": [
  {
   "cell_type": "markdown",
   "id": "7152b476",
   "metadata": {},
   "source": [
    "<h1>NLP Logistic Regression with L1 (Lasso) regularization</h1>"
   ]
  },
  {
   "cell_type": "code",
   "execution_count": 4,
   "id": "6546d21d",
   "metadata": {},
   "outputs": [],
   "source": [
    "# Regular Expressions\n",
    "import re\n",
    "\n",
    "# Data manipulation\n",
    "import numpy as np\n",
    "import pandas as pd\n",
    "\n",
    "# NLP\n",
    "import nltk\n",
    "from nltk.stem import PorterStemmer\n",
    "from nltk.corpus import stopwords\n",
    "\n",
    "# Train & testing, vectorization & model\n",
    "from sklearn.model_selection import train_test_split\n",
    "from sklearn.feature_extraction.text import TfidfVectorizer\n",
    "from sklearn.linear_model import LogisticRegressionCV, LogisticRegression\n",
    "from sklearn.metrics import classification_report\n",
    "\n",
    "# Charts\n",
    "import matplotlib.pyplot as plt\n",
    "import seaborn as sns\n",
    "\n",
    "import json"
   ]
  },
  {
   "cell_type": "markdown",
   "id": "c89715fd",
   "metadata": {},
   "source": [
    "<h3>Data is about 51,762 USA Congress law projects from year 1993 to 2010, every entry is annotated (1,0) whether it survived or not the Congress commitee</h3>\n",
    "<p>Get data from <a href=\"http://www.cs.cmu.edu/~ark/bills/\">here</a></p>"
   ]
  },
  {
   "cell_type": "code",
   "execution_count": 5,
   "id": "2bf23a5e",
   "metadata": {},
   "outputs": [],
   "source": [
    "def get_data(data_dir):\n",
    "    \"\"\"Load Raw Data\"\"\"\n",
    "\n",
    "    \n",
    "    bills = []\n",
    "    with open(f'{data_dir}/raw/billtext_org.json') as f:\n",
    "        for line in f.readlines():\n",
    "            bill_id, bill_data = line.split('\\t', 1)\n",
    "            bill_data = json.loads(bill_data)\n",
    "            bill = {\"id\": bill_id}\n",
    "            bill.update(bill_data)\n",
    "            bills.append(bill)\n",
    "    pre_data = pd.DataFrame(bills).set_index('id')\n",
    "    pre_data\n",
    "\n",
    "    # Load labels\n",
    "    data_dirs = [f'{data_dir}/{i}' for i in range(103, 112)]\n",
    "    bills = []\n",
    "    for data_dir in data_dirs:\n",
    "        with open(f'{data_dir}/response.json', 'r') as f:\n",
    "            for line in f.readlines():\n",
    "                bill_id, bill_response = line.split('\\t', 1)\n",
    "                bills.append({\n",
    "                    'id': bill_id,\n",
    "                    'response': int(bill_response.replace('\\n', ''))\n",
    "                })\n",
    "    pre_responses = pd.DataFrame(bills).set_index('id')\n",
    "\n",
    "    # Join text + labels\n",
    "    return pre_data.join(pre_responses)\n",
    "    \n",
    "# Create stemmer\n",
    "st = PorterStemmer()\n",
    "\n",
    "# Stop words, words that give no information\n",
    "cached_stopwords = stopwords.words('english') + [r'mr', r'ms', r'mrs']\n",
    "\n",
    "# Regular Exp to remove everything that is not a letter from a to z\n",
    "punctuation_re = re.compile('[^a-z]+')\n",
    "\n",
    "def pre_processing(text):\n",
    "    \"\"\"Process the given text. To lowercase, replace new lines for spaces,\n",
    "    remove punctuation marks, digits, stop words and stem words\"\"\"\n",
    "    return \" \".join(\n",
    "        [\n",
    "         st.stem(word) for word in punctuation_re.sub(\n",
    "             ' ', \n",
    "             str(text).lower().replace('\\n', ' ')\n",
    "             ).split()\n",
    "             if len(word) > 2 and word not in cached_stopwords       \n",
    "         ]\n",
    "         )"
   ]
  },
  {
   "cell_type": "code",
   "execution_count": 6,
   "id": "6ef2db84",
   "metadata": {},
   "outputs": [],
   "source": [
    "data = get_data('D:\\\\MY_DOWNLOADS\\\\Congressional_Bill_Corpus.v1.00\\\\Congressional_Bill_Corpus.v1.00\\\\')"
   ]
  },
  {
   "cell_type": "code",
   "execution_count": 7,
   "id": "7702aff2",
   "metadata": {},
   "outputs": [
    {
     "data": {
      "text/html": [
       "<div>\n",
       "<style scoped>\n",
       "    .dataframe tbody tr th:only-of-type {\n",
       "        vertical-align: middle;\n",
       "    }\n",
       "\n",
       "    .dataframe tbody tr th {\n",
       "        vertical-align: top;\n",
       "    }\n",
       "\n",
       "    .dataframe thead th {\n",
       "        text-align: right;\n",
       "    }\n",
       "</style>\n",
       "<table border=\"1\" class=\"dataframe\">\n",
       "  <thead>\n",
       "    <tr style=\"text-align: right;\">\n",
       "      <th></th>\n",
       "      <th>text</th>\n",
       "      <th>title</th>\n",
       "      <th>response</th>\n",
       "    </tr>\n",
       "    <tr>\n",
       "      <th>id</th>\n",
       "      <th></th>\n",
       "      <th></th>\n",
       "      <th></th>\n",
       "    </tr>\n",
       "  </thead>\n",
       "  <tbody>\n",
       "    <tr>\n",
       "      <th>C103-HR4449</th>\n",
       "      <td>4449 IH\\n103d CONGRESS\\n2d Session\\n H. R. 444...</td>\n",
       "      <td>To amend part A of title IV of the Social Secu...</td>\n",
       "      <td>0</td>\n",
       "    </tr>\n",
       "    <tr>\n",
       "      <th>C103-HR4448</th>\n",
       "      <td>4448 IH\\n103d CONGRESS\\n2d Session\\n H. R. 444...</td>\n",
       "      <td>To amend the Act establishing Lowell National ...</td>\n",
       "      <td>1</td>\n",
       "    </tr>\n",
       "    <tr>\n",
       "      <th>C103-HR2944</th>\n",
       "      <td>2944 IH\\n103d CONGRESS\\n1st Session\\n H. R. 29...</td>\n",
       "      <td>To provide grants to the States for drug testi...</td>\n",
       "      <td>0</td>\n",
       "    </tr>\n",
       "    <tr>\n",
       "      <th>C103-HR2945</th>\n",
       "      <td>2945 IH\\n103d CONGRESS\\n1st Session\\n H. R. 29...</td>\n",
       "      <td>To amend the Federal Election Campaign Act of ...</td>\n",
       "      <td>0</td>\n",
       "    </tr>\n",
       "    <tr>\n",
       "      <th>C103-HR2942</th>\n",
       "      <td>2942 IH\\n103d CONGRESS\\n1st Session\\n H. R. 29...</td>\n",
       "      <td>To designate certain lands in the Commonwealth...</td>\n",
       "      <td>1</td>\n",
       "    </tr>\n",
       "    <tr>\n",
       "      <th>...</th>\n",
       "      <td>...</td>\n",
       "      <td>...</td>\n",
       "      <td>...</td>\n",
       "    </tr>\n",
       "    <tr>\n",
       "      <th>C111-HR4236</th>\n",
       "      <td>4236 IH\\n111th CONGRESS\\n1st Session\\n H. R. 4...</td>\n",
       "      <td>To amend the Internal Revenue Code of 1986 to ...</td>\n",
       "      <td>0</td>\n",
       "    </tr>\n",
       "    <tr>\n",
       "      <th>C111-HR2459</th>\n",
       "      <td>2459 IH\\n111th CONGRESS\\n1st Session\\n H. R. 2...</td>\n",
       "      <td>To amend the Public Health Service Act with re...</td>\n",
       "      <td>0</td>\n",
       "    </tr>\n",
       "    <tr>\n",
       "      <th>C111-HR2493</th>\n",
       "      <td>2493 IH\\n111th CONGRESS\\n1st Session\\n H. R. 2...</td>\n",
       "      <td>To prevent wealthy and middle-income foreign s...</td>\n",
       "      <td>0</td>\n",
       "    </tr>\n",
       "    <tr>\n",
       "      <th>C111-HR1026</th>\n",
       "      <td>1026 IH\\n111th CONGRESS\\n1st Session\\n H. R. 1...</td>\n",
       "      <td>To amend the procedures regarding military rec...</td>\n",
       "      <td>0</td>\n",
       "    </tr>\n",
       "    <tr>\n",
       "      <th>C111-HR2492</th>\n",
       "      <td>2492 IH\\n111th CONGRESS\\n1st Session\\n H. R. 2...</td>\n",
       "      <td>To amend the Internal Revenue Code of 1986 to ...</td>\n",
       "      <td>0</td>\n",
       "    </tr>\n",
       "  </tbody>\n",
       "</table>\n",
       "<p>51762 rows × 3 columns</p>\n",
       "</div>"
      ],
      "text/plain": [
       "                                                          text  \\\n",
       "id                                                               \n",
       "C103-HR4449  4449 IH\\n103d CONGRESS\\n2d Session\\n H. R. 444...   \n",
       "C103-HR4448  4448 IH\\n103d CONGRESS\\n2d Session\\n H. R. 444...   \n",
       "C103-HR2944  2944 IH\\n103d CONGRESS\\n1st Session\\n H. R. 29...   \n",
       "C103-HR2945  2945 IH\\n103d CONGRESS\\n1st Session\\n H. R. 29...   \n",
       "C103-HR2942  2942 IH\\n103d CONGRESS\\n1st Session\\n H. R. 29...   \n",
       "...                                                        ...   \n",
       "C111-HR4236  4236 IH\\n111th CONGRESS\\n1st Session\\n H. R. 4...   \n",
       "C111-HR2459  2459 IH\\n111th CONGRESS\\n1st Session\\n H. R. 2...   \n",
       "C111-HR2493  2493 IH\\n111th CONGRESS\\n1st Session\\n H. R. 2...   \n",
       "C111-HR1026  1026 IH\\n111th CONGRESS\\n1st Session\\n H. R. 1...   \n",
       "C111-HR2492  2492 IH\\n111th CONGRESS\\n1st Session\\n H. R. 2...   \n",
       "\n",
       "                                                         title  response  \n",
       "id                                                                        \n",
       "C103-HR4449  To amend part A of title IV of the Social Secu...         0  \n",
       "C103-HR4448  To amend the Act establishing Lowell National ...         1  \n",
       "C103-HR2944  To provide grants to the States for drug testi...         0  \n",
       "C103-HR2945  To amend the Federal Election Campaign Act of ...         0  \n",
       "C103-HR2942  To designate certain lands in the Commonwealth...         1  \n",
       "...                                                        ...       ...  \n",
       "C111-HR4236  To amend the Internal Revenue Code of 1986 to ...         0  \n",
       "C111-HR2459  To amend the Public Health Service Act with re...         0  \n",
       "C111-HR2493  To prevent wealthy and middle-income foreign s...         0  \n",
       "C111-HR1026  To amend the procedures regarding military rec...         0  \n",
       "C111-HR2492  To amend the Internal Revenue Code of 1986 to ...         0  \n",
       "\n",
       "[51762 rows x 3 columns]"
      ]
     },
     "execution_count": 7,
     "metadata": {},
     "output_type": "execute_result"
    }
   ],
   "source": [
    "data"
   ]
  },
  {
   "cell_type": "code",
   "execution_count": 8,
   "id": "34e0a2c1",
   "metadata": {},
   "outputs": [
    {
     "name": "stdout",
     "output_type": "stream",
     "text": [
      "2942 IH\n",
      "103d CONGRESS\n",
      "1st Session\n",
      " H. R. 2942\n",
      "To designate certain lands in the Commonwealth of Virginia as a National Scenic Area for protection of the watershed and scenic values, recreation use, protection of wildlife and their habitat, and for other purposes.\n",
      "IN THE HOUSE OF REPRESENTATIVES\n",
      "August 6, 1993\n",
      "Mr. GOODLATTE introduced the following bill; which was referred to the Committee on Agriculture\n",
      "\n",
      "A BILL\n",
      "To designate certain lands in the Commonwealth of Virginia as a National Scenic Area for protection of the watershed and scenic values, recreation use, protection of wildlife and their habitat, and for other purposes.\n",
      "  Be it enacted by the Senate and House of Representatives of the United States of America in Congress assembled,\n",
      "SECTION 1. SHORT TITLE.\n",
      "  This Act may be cited as the `Mount Pleasant National Scenic Area Act'.\n",
      "SEC. 2. PURPOSES.\n",
      "  The purposes of this Act with respect to the Mount Pleasant National Scenic Area are to--\n",
      "  (1) ensure appropriate protection and preservation of the scenic quality, water quality, and water resources;\n",
      "  (2) protect and manage vegetation to provide wildlife and fish habitat, consistent with paragraph (1) above;\n",
      "  (3) provide areas that may develop characteristics of old-growth forests; and\n",
      "  (4) provide a variety of recreation opportunities that are not inconsistent with the purposes set forth above.\n",
      "SEC. 3. ESTABLISHMENT OF THE NATIONAL SCENIC AREA.\n",
      "  (a) IN GENERAL- (1) There is hereby established in the George Washington National Forest, Virginia, the Mount Pleasant National Scenic Area (hereinafter referred to in this Act as the `scenic area').\n",
      "  (2) The scenic area shall consist of certain lands in the George Washington National Forest, Virginia, which comprise seven thousand five hundred and eighty acres, more or less, as generally depicted on a map entitled `Mount Pleasant National Scenic Area--Proposed', dated June 21, 1993.\n",
      "  (b) ADMINISTRATION- The Secretary of Agriculture, (hereinafter referred to in this Act as the `Secretary') shall administer the scenic area in accordance with this Act and the laws and regulations generally applicable to the National Forest System. In the event of conflict between this Act and other laws and regulations, this Act shall take precedence.\n",
      "  (c) ROADS- After the date of enactment of this Act, no new permanent roads shall be constructed within the scenic area: Provided, That this provision shall not be constructed to deny access to private lands or interests therein in the scenic area.\n",
      "  (d) VEGETATION MANAGEMENT- No timber harvest shall be allowed within the scenic area, except as may be necessary in the control of fire, insects, and diseases and to provide for public safety and trail access. Notwithstanding the foregoing, the Secretary may engage in vegetation manipulation practices for maintenance of existing wildlife habitat and visual quality. Firewood may be harvested for personal use along perimeter roads under such conditions as the Secretary may impose.\n",
      "  (e) MOTORIZED TRAVEL- Motorized travel shall not be permitted within the scenic area; except as necessary for administrative use in furtherance of the purposes of this Act, on temporary routes in support of wildlife management projects, on State Route 635, and on Forest Development Road 51 subject to such conditions as the Secretary may impose.\n",
      "  (f) FIRE- Wildfires shall be suppressed in a manner consistent with the purposes of this Act, using such means as the Secretary deems appropriate.\n",
      "  (g) INSECTS AND DISEASE- Insect and disease outbreaks may be controlled in the scenic area to maintain scenic quality, prevent tree mortality, reduce hazards to visitors or to protect private lands.\n",
      "  (h) WATER- The scenic area shall be administered so as to maintain or enhance existing water quality.\n",
      "  (i) MAPS AND DESCRIPTIONS- As soon as practicable after the date of enactment of this Act, the Secretary shall file a map and boundary description of the scenic area with the Committee on Agriculture, Nutrition, and Forestry of the United States Senate and the Committee on Agriculture of the United States House of Representatives. The map and description shall have the same force and effect as if included in this Act, except that the Secretary is authorized to correct clerical and typographical errors in such boundary description and map. Such map and boundary description shall be on file and available for public inspection in the Office of the Chief of the Forest Service, Department of Agriculture. In the case of any discrepancy between the acreage and the map described in subsection (a)(2), the map shall control.\n",
      "  (j) MANAGEMENT PLAN- Within three years of enactment of this Act, the Secretary shall develop a management plan for the scenic area as an amendment to the Land and Resource Management Plan for the George Washington National Forest. Such an amendment shall conform to the provisions of this Act. Nothing in this Act shall require the Secretary to revise the Land and Resource Management Plan for the George Washington National Forest pursuant to section 6 of the Forest and Rangeland Renewable Resources Planning Act of 1974.\n",
      " \n",
      " \n",
      "\n",
      "\n"
     ]
    }
   ],
   "source": [
    "print(data.text[4])"
   ]
  },
  {
   "cell_type": "code",
   "execution_count": 9,
   "id": "f6e9c77e",
   "metadata": {},
   "outputs": [
    {
     "data": {
      "text/plain": [
       "0    44934\n",
       "1     6828\n",
       "Name: response, dtype: int64"
      ]
     },
     "execution_count": 9,
     "metadata": {},
     "output_type": "execute_result"
    }
   ],
   "source": [
    "data.response.value_counts()"
   ]
  },
  {
   "cell_type": "markdown",
   "id": "f9a9eb89",
   "metadata": {},
   "source": [
    "<h3>Pre-processing</h3>\n",
    "<p>Split into trainning and testing data sets</p>"
   ]
  },
  {
   "cell_type": "code",
   "execution_count": 11,
   "id": "67732c6b",
   "metadata": {},
   "outputs": [
    {
     "name": "stdout",
     "output_type": "stream",
     "text": [
      "(36233,) (15529,)\n"
     ]
    }
   ],
   "source": [
    "X_train, X_test, y_train, y_test = train_test_split(data.text, data.response, train_size =.7, random_state=10)\n",
    "print(X_train.shape, X_test.shape)"
   ]
  },
  {
   "cell_type": "markdown",
   "id": "89b0ce28",
   "metadata": {},
   "source": [
    "<p>preprocess and save result into csv</p>"
   ]
  },
  {
   "cell_type": "code",
   "execution_count": 12,
   "id": "0fb65248",
   "metadata": {},
   "outputs": [
    {
     "name": "stderr",
     "output_type": "stream",
     "text": [
      "100%|██████████| 36233/36233 [17:15<00:00, 34.98it/s]  \n"
     ]
    }
   ],
   "source": [
    "from tqdm import tqdm\n",
    "tqdm.pandas()\n",
    "X_train_proc = X_train.progress_apply(pre_processing)"
   ]
  },
  {
   "cell_type": "code",
   "execution_count": 14,
   "id": "d9e0e77a",
   "metadata": {},
   "outputs": [],
   "source": [
    "X_train_proc.to_csv(\"D:\\\\MY_DOWNLOADS\\\\Congressional_Bill_Corpus.v1.00\\\\Congressional_Bill_Corpus.v1.00\\\\X_proc.csv\")"
   ]
  },
  {
   "cell_type": "markdown",
   "id": "ac5498e8",
   "metadata": {},
   "source": [
    "<p>Load preprocessing file</p>"
   ]
  },
  {
   "cell_type": "code",
   "execution_count": 15,
   "id": "738ac706",
   "metadata": {},
   "outputs": [
    {
     "data": {
      "text/plain": [
       "id\n",
       "C110-HR1779    congress session amend higher educ act extend ...\n",
       "C108-HR541     congress session amend intern revenu code prov...\n",
       "C111-HR4711    congress session provid deliveri vehicl fleet ...\n",
       "C110-HR2700    congress session suspend implement absolut pri...\n",
       "C110-HR1754    congress session establish hous ethic commiss ...\n",
       "                                     ...                        \n",
       "C108-HR1830    congress session amend immigr nation act provi...\n",
       "C111-HR1309    congress session codifi definit term use subhe...\n",
       "C108-HR1873    congress session amend intern revenu code prov...\n",
       "C110-HR1605    congress session amend titl unit state code re...\n",
       "C106-HR4417    congress session provid secretari commerc cont...\n",
       "Name: text, Length: 36233, dtype: object"
      ]
     },
     "execution_count": 15,
     "metadata": {},
     "output_type": "execute_result"
    }
   ],
   "source": [
    "X_train_proc = pd.read_csv(\"D:\\\\MY_DOWNLOADS\\\\Congressional_Bill_Corpus.v1.00\\\\Congressional_Bill_Corpus.v1.00\\\\X_proc.csv\", index_col=0).text\n",
    "X_train_proc"
   ]
  },
  {
   "cell_type": "markdown",
   "id": "f339fac9",
   "metadata": {},
   "source": [
    "<p>drop NaNs and match x train & y train indexes</p>"
   ]
  },
  {
   "cell_type": "code",
   "execution_count": 27,
   "id": "58e48b09",
   "metadata": {},
   "outputs": [],
   "source": [
    "X_train_proc = X_train_proc.dropna()"
   ]
  },
  {
   "cell_type": "code",
   "execution_count": 65,
   "id": "9b230c45",
   "metadata": {
    "scrolled": true
   },
   "outputs": [],
   "source": [
    "mask = y_train.index.isin(X_train_proc.index)"
   ]
  },
  {
   "cell_type": "code",
   "execution_count": 68,
   "id": "23a60da2",
   "metadata": {},
   "outputs": [],
   "source": [
    "y_train = y_train.loc[mask]"
   ]
  },
  {
   "cell_type": "code",
   "execution_count": 69,
   "id": "d09d449c",
   "metadata": {},
   "outputs": [
    {
     "data": {
      "text/plain": [
       "id\n",
       "C110-HR1779    0\n",
       "C108-HR541     0\n",
       "C111-HR4711    0\n",
       "C110-HR2700    0\n",
       "C110-HR1754    0\n",
       "              ..\n",
       "C108-HR1830    0\n",
       "C111-HR1309    0\n",
       "C108-HR1873    0\n",
       "C110-HR1605    0\n",
       "C106-HR4417    0\n",
       "Name: response, Length: 35602, dtype: int64"
      ]
     },
     "execution_count": 69,
     "metadata": {},
     "output_type": "execute_result"
    }
   ],
   "source": [
    "y_train"
   ]
  },
  {
   "cell_type": "markdown",
   "id": "382f54fe",
   "metadata": {},
   "source": [
    "<h3>Vectorization (word bagging)</h3>"
   ]
  },
  {
   "cell_type": "code",
   "execution_count": 70,
   "id": "1e77cf67",
   "metadata": {},
   "outputs": [
    {
     "data": {
      "text/plain": [
       "<35602x916 sparse matrix of type '<class 'numpy.float64'>'\n",
       "\twith 4817097 stored elements in Compressed Sparse Row format>"
      ]
     },
     "execution_count": 70,
     "metadata": {},
     "output_type": "execute_result"
    }
   ],
   "source": [
    "vect = TfidfVectorizer(min_df = .05, max_df = .95)\n",
    "bow = vect.fit_transform(X_train_proc)\n",
    "bow"
   ]
  },
  {
   "cell_type": "code",
   "execution_count": 71,
   "id": "53cafc79",
   "metadata": {},
   "outputs": [
    {
     "data": {
      "text/html": [
       "<div>\n",
       "<style scoped>\n",
       "    .dataframe tbody tr th:only-of-type {\n",
       "        vertical-align: middle;\n",
       "    }\n",
       "\n",
       "    .dataframe tbody tr th {\n",
       "        vertical-align: top;\n",
       "    }\n",
       "\n",
       "    .dataframe thead th {\n",
       "        text-align: right;\n",
       "    }\n",
       "</style>\n",
       "<table border=\"1\" class=\"dataframe\">\n",
       "  <thead>\n",
       "    <tr style=\"text-align: right;\">\n",
       "      <th></th>\n",
       "      <th>abil</th>\n",
       "      <th>abus</th>\n",
       "      <th>accept</th>\n",
       "      <th>access</th>\n",
       "      <th>accord</th>\n",
       "      <th>account</th>\n",
       "      <th>achiev</th>\n",
       "      <th>acquir</th>\n",
       "      <th>acquisit</th>\n",
       "      <th>act</th>\n",
       "      <th>...</th>\n",
       "      <th>work</th>\n",
       "      <th>worker</th>\n",
       "      <th>workforc</th>\n",
       "      <th>world</th>\n",
       "      <th>would</th>\n",
       "      <th>write</th>\n",
       "      <th>written</th>\n",
       "      <th>xviii</th>\n",
       "      <th>year</th>\n",
       "      <th>york</th>\n",
       "    </tr>\n",
       "  </thead>\n",
       "  <tbody>\n",
       "    <tr>\n",
       "      <th>0</th>\n",
       "      <td>0.0</td>\n",
       "      <td>0.000000</td>\n",
       "      <td>0.000000</td>\n",
       "      <td>0.000000</td>\n",
       "      <td>0.000000</td>\n",
       "      <td>0.000000</td>\n",
       "      <td>0.000000</td>\n",
       "      <td>0.000000</td>\n",
       "      <td>0.0</td>\n",
       "      <td>0.124823</td>\n",
       "      <td>...</td>\n",
       "      <td>0.000000</td>\n",
       "      <td>0.000000</td>\n",
       "      <td>0.0</td>\n",
       "      <td>0.0</td>\n",
       "      <td>0.000000</td>\n",
       "      <td>0.063787</td>\n",
       "      <td>0.000000</td>\n",
       "      <td>0.0</td>\n",
       "      <td>0.190310</td>\n",
       "      <td>0.0</td>\n",
       "    </tr>\n",
       "    <tr>\n",
       "      <th>1</th>\n",
       "      <td>0.0</td>\n",
       "      <td>0.000000</td>\n",
       "      <td>0.000000</td>\n",
       "      <td>0.000000</td>\n",
       "      <td>0.000000</td>\n",
       "      <td>0.000000</td>\n",
       "      <td>0.000000</td>\n",
       "      <td>0.000000</td>\n",
       "      <td>0.0</td>\n",
       "      <td>0.000000</td>\n",
       "      <td>...</td>\n",
       "      <td>0.302793</td>\n",
       "      <td>0.041639</td>\n",
       "      <td>0.0</td>\n",
       "      <td>0.0</td>\n",
       "      <td>0.000000</td>\n",
       "      <td>0.000000</td>\n",
       "      <td>0.034022</td>\n",
       "      <td>0.0</td>\n",
       "      <td>0.017135</td>\n",
       "      <td>0.0</td>\n",
       "    </tr>\n",
       "    <tr>\n",
       "      <th>2</th>\n",
       "      <td>0.0</td>\n",
       "      <td>0.000000</td>\n",
       "      <td>0.000000</td>\n",
       "      <td>0.000000</td>\n",
       "      <td>0.000000</td>\n",
       "      <td>0.021147</td>\n",
       "      <td>0.000000</td>\n",
       "      <td>0.057491</td>\n",
       "      <td>0.0</td>\n",
       "      <td>0.057816</td>\n",
       "      <td>...</td>\n",
       "      <td>0.000000</td>\n",
       "      <td>0.000000</td>\n",
       "      <td>0.0</td>\n",
       "      <td>0.0</td>\n",
       "      <td>0.020854</td>\n",
       "      <td>0.000000</td>\n",
       "      <td>0.000000</td>\n",
       "      <td>0.0</td>\n",
       "      <td>0.068211</td>\n",
       "      <td>0.0</td>\n",
       "    </tr>\n",
       "    <tr>\n",
       "      <th>3</th>\n",
       "      <td>0.0</td>\n",
       "      <td>0.000000</td>\n",
       "      <td>0.000000</td>\n",
       "      <td>0.000000</td>\n",
       "      <td>0.000000</td>\n",
       "      <td>0.000000</td>\n",
       "      <td>0.000000</td>\n",
       "      <td>0.000000</td>\n",
       "      <td>0.0</td>\n",
       "      <td>0.000000</td>\n",
       "      <td>...</td>\n",
       "      <td>0.000000</td>\n",
       "      <td>0.000000</td>\n",
       "      <td>0.0</td>\n",
       "      <td>0.0</td>\n",
       "      <td>0.000000</td>\n",
       "      <td>0.000000</td>\n",
       "      <td>0.000000</td>\n",
       "      <td>0.0</td>\n",
       "      <td>0.000000</td>\n",
       "      <td>0.0</td>\n",
       "    </tr>\n",
       "    <tr>\n",
       "      <th>4</th>\n",
       "      <td>0.0</td>\n",
       "      <td>0.000000</td>\n",
       "      <td>0.000000</td>\n",
       "      <td>0.000000</td>\n",
       "      <td>0.000000</td>\n",
       "      <td>0.000000</td>\n",
       "      <td>0.000000</td>\n",
       "      <td>0.000000</td>\n",
       "      <td>0.0</td>\n",
       "      <td>0.051499</td>\n",
       "      <td>...</td>\n",
       "      <td>0.000000</td>\n",
       "      <td>0.000000</td>\n",
       "      <td>0.0</td>\n",
       "      <td>0.0</td>\n",
       "      <td>0.000000</td>\n",
       "      <td>0.038013</td>\n",
       "      <td>0.000000</td>\n",
       "      <td>0.0</td>\n",
       "      <td>0.064808</td>\n",
       "      <td>0.0</td>\n",
       "    </tr>\n",
       "    <tr>\n",
       "      <th>...</th>\n",
       "      <td>...</td>\n",
       "      <td>...</td>\n",
       "      <td>...</td>\n",
       "      <td>...</td>\n",
       "      <td>...</td>\n",
       "      <td>...</td>\n",
       "      <td>...</td>\n",
       "      <td>...</td>\n",
       "      <td>...</td>\n",
       "      <td>...</td>\n",
       "      <td>...</td>\n",
       "      <td>...</td>\n",
       "      <td>...</td>\n",
       "      <td>...</td>\n",
       "      <td>...</td>\n",
       "      <td>...</td>\n",
       "      <td>...</td>\n",
       "      <td>...</td>\n",
       "      <td>...</td>\n",
       "      <td>...</td>\n",
       "      <td>...</td>\n",
       "    </tr>\n",
       "    <tr>\n",
       "      <th>35597</th>\n",
       "      <td>0.0</td>\n",
       "      <td>0.007898</td>\n",
       "      <td>0.006278</td>\n",
       "      <td>0.011272</td>\n",
       "      <td>0.031734</td>\n",
       "      <td>0.019743</td>\n",
       "      <td>0.006631</td>\n",
       "      <td>0.000000</td>\n",
       "      <td>0.0</td>\n",
       "      <td>0.040485</td>\n",
       "      <td>...</td>\n",
       "      <td>0.022508</td>\n",
       "      <td>0.046428</td>\n",
       "      <td>0.0</td>\n",
       "      <td>0.0</td>\n",
       "      <td>0.009735</td>\n",
       "      <td>0.014942</td>\n",
       "      <td>0.000000</td>\n",
       "      <td>0.0</td>\n",
       "      <td>0.047763</td>\n",
       "      <td>0.0</td>\n",
       "    </tr>\n",
       "    <tr>\n",
       "      <th>35598</th>\n",
       "      <td>0.0</td>\n",
       "      <td>0.000000</td>\n",
       "      <td>0.000000</td>\n",
       "      <td>0.000000</td>\n",
       "      <td>0.039961</td>\n",
       "      <td>0.000000</td>\n",
       "      <td>0.000000</td>\n",
       "      <td>0.000000</td>\n",
       "      <td>0.0</td>\n",
       "      <td>0.019826</td>\n",
       "      <td>...</td>\n",
       "      <td>0.000000</td>\n",
       "      <td>0.000000</td>\n",
       "      <td>0.0</td>\n",
       "      <td>0.0</td>\n",
       "      <td>0.000000</td>\n",
       "      <td>0.000000</td>\n",
       "      <td>0.000000</td>\n",
       "      <td>0.0</td>\n",
       "      <td>0.000000</td>\n",
       "      <td>0.0</td>\n",
       "    </tr>\n",
       "    <tr>\n",
       "      <th>35599</th>\n",
       "      <td>0.0</td>\n",
       "      <td>0.000000</td>\n",
       "      <td>0.000000</td>\n",
       "      <td>0.000000</td>\n",
       "      <td>0.000000</td>\n",
       "      <td>0.000000</td>\n",
       "      <td>0.000000</td>\n",
       "      <td>0.000000</td>\n",
       "      <td>0.0</td>\n",
       "      <td>0.100064</td>\n",
       "      <td>...</td>\n",
       "      <td>0.000000</td>\n",
       "      <td>0.000000</td>\n",
       "      <td>0.0</td>\n",
       "      <td>0.0</td>\n",
       "      <td>0.000000</td>\n",
       "      <td>0.000000</td>\n",
       "      <td>0.000000</td>\n",
       "      <td>0.0</td>\n",
       "      <td>0.106248</td>\n",
       "      <td>0.0</td>\n",
       "    </tr>\n",
       "    <tr>\n",
       "      <th>35600</th>\n",
       "      <td>0.0</td>\n",
       "      <td>0.000000</td>\n",
       "      <td>0.000000</td>\n",
       "      <td>0.000000</td>\n",
       "      <td>0.000000</td>\n",
       "      <td>0.000000</td>\n",
       "      <td>0.000000</td>\n",
       "      <td>0.000000</td>\n",
       "      <td>0.0</td>\n",
       "      <td>0.046658</td>\n",
       "      <td>...</td>\n",
       "      <td>0.014591</td>\n",
       "      <td>0.020065</td>\n",
       "      <td>0.0</td>\n",
       "      <td>0.0</td>\n",
       "      <td>0.012622</td>\n",
       "      <td>0.000000</td>\n",
       "      <td>0.000000</td>\n",
       "      <td>0.0</td>\n",
       "      <td>0.066055</td>\n",
       "      <td>0.0</td>\n",
       "    </tr>\n",
       "    <tr>\n",
       "      <th>35601</th>\n",
       "      <td>0.0</td>\n",
       "      <td>0.000000</td>\n",
       "      <td>0.000000</td>\n",
       "      <td>0.000000</td>\n",
       "      <td>0.019048</td>\n",
       "      <td>0.000000</td>\n",
       "      <td>0.000000</td>\n",
       "      <td>0.000000</td>\n",
       "      <td>0.0</td>\n",
       "      <td>0.198460</td>\n",
       "      <td>...</td>\n",
       "      <td>0.000000</td>\n",
       "      <td>0.000000</td>\n",
       "      <td>0.0</td>\n",
       "      <td>0.0</td>\n",
       "      <td>0.000000</td>\n",
       "      <td>0.000000</td>\n",
       "      <td>0.000000</td>\n",
       "      <td>0.0</td>\n",
       "      <td>0.053518</td>\n",
       "      <td>0.0</td>\n",
       "    </tr>\n",
       "  </tbody>\n",
       "</table>\n",
       "<p>35602 rows × 916 columns</p>\n",
       "</div>"
      ],
      "text/plain": [
       "       abil      abus    accept    access    accord   account    achiev  \\\n",
       "0       0.0  0.000000  0.000000  0.000000  0.000000  0.000000  0.000000   \n",
       "1       0.0  0.000000  0.000000  0.000000  0.000000  0.000000  0.000000   \n",
       "2       0.0  0.000000  0.000000  0.000000  0.000000  0.021147  0.000000   \n",
       "3       0.0  0.000000  0.000000  0.000000  0.000000  0.000000  0.000000   \n",
       "4       0.0  0.000000  0.000000  0.000000  0.000000  0.000000  0.000000   \n",
       "...     ...       ...       ...       ...       ...       ...       ...   \n",
       "35597   0.0  0.007898  0.006278  0.011272  0.031734  0.019743  0.006631   \n",
       "35598   0.0  0.000000  0.000000  0.000000  0.039961  0.000000  0.000000   \n",
       "35599   0.0  0.000000  0.000000  0.000000  0.000000  0.000000  0.000000   \n",
       "35600   0.0  0.000000  0.000000  0.000000  0.000000  0.000000  0.000000   \n",
       "35601   0.0  0.000000  0.000000  0.000000  0.019048  0.000000  0.000000   \n",
       "\n",
       "         acquir  acquisit       act  ...      work    worker  workforc  world  \\\n",
       "0      0.000000       0.0  0.124823  ...  0.000000  0.000000       0.0    0.0   \n",
       "1      0.000000       0.0  0.000000  ...  0.302793  0.041639       0.0    0.0   \n",
       "2      0.057491       0.0  0.057816  ...  0.000000  0.000000       0.0    0.0   \n",
       "3      0.000000       0.0  0.000000  ...  0.000000  0.000000       0.0    0.0   \n",
       "4      0.000000       0.0  0.051499  ...  0.000000  0.000000       0.0    0.0   \n",
       "...         ...       ...       ...  ...       ...       ...       ...    ...   \n",
       "35597  0.000000       0.0  0.040485  ...  0.022508  0.046428       0.0    0.0   \n",
       "35598  0.000000       0.0  0.019826  ...  0.000000  0.000000       0.0    0.0   \n",
       "35599  0.000000       0.0  0.100064  ...  0.000000  0.000000       0.0    0.0   \n",
       "35600  0.000000       0.0  0.046658  ...  0.014591  0.020065       0.0    0.0   \n",
       "35601  0.000000       0.0  0.198460  ...  0.000000  0.000000       0.0    0.0   \n",
       "\n",
       "          would     write   written  xviii      year  york  \n",
       "0      0.000000  0.063787  0.000000    0.0  0.190310   0.0  \n",
       "1      0.000000  0.000000  0.034022    0.0  0.017135   0.0  \n",
       "2      0.020854  0.000000  0.000000    0.0  0.068211   0.0  \n",
       "3      0.000000  0.000000  0.000000    0.0  0.000000   0.0  \n",
       "4      0.000000  0.038013  0.000000    0.0  0.064808   0.0  \n",
       "...         ...       ...       ...    ...       ...   ...  \n",
       "35597  0.009735  0.014942  0.000000    0.0  0.047763   0.0  \n",
       "35598  0.000000  0.000000  0.000000    0.0  0.000000   0.0  \n",
       "35599  0.000000  0.000000  0.000000    0.0  0.106248   0.0  \n",
       "35600  0.012622  0.000000  0.000000    0.0  0.066055   0.0  \n",
       "35601  0.000000  0.000000  0.000000    0.0  0.053518   0.0  \n",
       "\n",
       "[35602 rows x 916 columns]"
      ]
     },
     "execution_count": 71,
     "metadata": {},
     "output_type": "execute_result"
    }
   ],
   "source": [
    "pd.DataFrame(bow.todense(), columns = vect.get_feature_names())"
   ]
  },
  {
   "cell_type": "markdown",
   "id": "b5bf040d",
   "metadata": {},
   "source": [
    "<h2>Modells</h2>\n",
    "<h3>Logistic Regression with L1</h3>"
   ]
  },
  {
   "cell_type": "code",
   "execution_count": 72,
   "id": "8a47a89d",
   "metadata": {},
   "outputs": [],
   "source": [
    "log_l1 = LogisticRegressionCV(cv=5, random_state=2, penalty = 'l1', solver = 'liblinear', n_jobs = -1).fit(bow, y_train)"
   ]
  },
  {
   "cell_type": "code",
   "execution_count": 74,
   "id": "e2a71c0e",
   "metadata": {},
   "outputs": [
    {
     "data": {
      "text/plain": [
       "array([0.35938137])"
      ]
     },
     "execution_count": 74,
     "metadata": {},
     "output_type": "execute_result"
    }
   ],
   "source": [
    "log_l1.C_"
   ]
  },
  {
   "cell_type": "code",
   "execution_count": 75,
   "id": "736921a5",
   "metadata": {},
   "outputs": [
    {
     "name": "stderr",
     "output_type": "stream",
     "text": [
      "100%|██████████| 15529/15529 [06:25<00:00, 40.31it/s]\n"
     ]
    }
   ],
   "source": [
    "X_test_proc = X_test.progress_apply(pre_processing)"
   ]
  },
  {
   "cell_type": "code",
   "execution_count": 77,
   "id": "502b13be",
   "metadata": {},
   "outputs": [],
   "source": [
    "X_test_proc = X_test_proc.dropna()"
   ]
  },
  {
   "cell_type": "code",
   "execution_count": 79,
   "id": "ae246b2d",
   "metadata": {},
   "outputs": [],
   "source": [
    "X_test_proc.to_csv(\"X_test_proc.csv\")"
   ]
  },
  {
   "cell_type": "code",
   "execution_count": 80,
   "id": "0028619d",
   "metadata": {},
   "outputs": [],
   "source": [
    "bow_test = vect.transform(X_test_proc)"
   ]
  },
  {
   "cell_type": "code",
   "execution_count": 81,
   "id": "e30c60e2",
   "metadata": {},
   "outputs": [
    {
     "name": "stdout",
     "output_type": "stream",
     "text": [
      "              precision    recall  f1-score   support\n",
      "\n",
      "           0       0.88      0.99      0.93     13453\n",
      "           1       0.64      0.14      0.23      2076\n",
      "\n",
      "    accuracy                           0.87     15529\n",
      "   macro avg       0.76      0.56      0.58     15529\n",
      "weighted avg       0.85      0.87      0.84     15529\n",
      "\n"
     ]
    }
   ],
   "source": [
    "print(classification_report(y_test, log_l1.predict(bow_test)))"
   ]
  },
  {
   "cell_type": "markdown",
   "id": "bfce3b4c",
   "metadata": {},
   "source": [
    "<h3>Logistic Regression without regularization</h3>"
   ]
  },
  {
   "cell_type": "code",
   "execution_count": 83,
   "id": "f57d2d35",
   "metadata": {},
   "outputs": [],
   "source": [
    "log = LogisticRegression(penalty='none', max_iter = 1000).fit(bow, y_train)"
   ]
  },
  {
   "cell_type": "code",
   "execution_count": 84,
   "id": "9cd519ca",
   "metadata": {},
   "outputs": [
    {
     "name": "stdout",
     "output_type": "stream",
     "text": [
      "              precision    recall  f1-score   support\n",
      "\n",
      "           0       0.89      0.98      0.93     13453\n",
      "           1       0.58      0.21      0.31      2076\n",
      "\n",
      "    accuracy                           0.87     15529\n",
      "   macro avg       0.73      0.59      0.62     15529\n",
      "weighted avg       0.85      0.87      0.85     15529\n",
      "\n"
     ]
    }
   ],
   "source": [
    "print(classification_report(y_test, log.predict(bow_test)))"
   ]
  },
  {
   "cell_type": "markdown",
   "id": "4db1c36f",
   "metadata": {},
   "source": [
    "<h3>Coefficient comparison</h3>\n",
    "<p>From charts it can be seen:</p>\n",
    "<p>- Lasso makes nearly every coefficient 0</p>\n",
    "<p>- If regularization is not used nearly every variable will affect the final result</p>"
   ]
  },
  {
   "cell_type": "code",
   "execution_count": 86,
   "id": "d859180b",
   "metadata": {},
   "outputs": [
    {
     "name": "stderr",
     "output_type": "stream",
     "text": [
      "<ipython-input-86-2738fb56f485>:8: UserWarning: Matplotlib is currently using module://ipykernel.pylab.backend_inline, which is a non-GUI backend, so cannot show the figure.\n",
      "  fig.show()\n"
     ]
    },
    {
     "data": {
      "image/png": "[encoded data removed]",
      "text/plain": [
       "<Figure size 720x360 with 2 Axes>"
      ]
     },
     "metadata": {
      "needs_background": "light"
     },
     "output_type": "display_data"
    }
   ],
   "source": [
    "fig, ax =plt.subplots(1,2)\n",
    "\n",
    "fig.set_size_inches(10, 5)\n",
    "\n",
    "sns.histplot(list(log_l1.coef_), ax=ax[0]).set_title('Logistic Regression with L1 regularization.')\n",
    "sns.histplot(list(log.coef_), ax=ax[1]).set_title('Logistic Regression without regularization.')\n",
    "\n",
    "fig.show()"
   ]
  },
  {
   "cell_type": "markdown",
   "id": "2859fbcb",
   "metadata": {},
   "source": [
    "<p><b>It can be seen that 235 variables or words are enough to get 65% precision to know whether a project law will be accepted or not</b></p>"
   ]
  },
  {
   "cell_type": "code",
   "execution_count": 88,
   "id": "aa35b6d6",
   "metadata": {},
   "outputs": [
    {
     "data": {
      "text/plain": [
       "{'non-zero': 235, 'zero': 681}"
      ]
     },
     "execution_count": 88,
     "metadata": {},
     "output_type": "execute_result"
    }
   ],
   "source": [
    "log_l1_zeros = [\"zero\" if x == 0 else \"non-zero\" for x in log_l1.coef_.tolist()[0]]\n",
    "unique, counts = np.unique(log_l1_zeros, return_counts=True)\n",
    "dict(zip(unique, counts))"
   ]
  },
  {
   "cell_type": "code",
   "execution_count": 89,
   "id": "22731a43",
   "metadata": {},
   "outputs": [
    {
     "data": {
      "text/plain": [
       "{'non-zero': 916}"
      ]
     },
     "execution_count": 89,
     "metadata": {},
     "output_type": "execute_result"
    }
   ],
   "source": [
    "log_zeros = [\"zero\" if x == 0 else \"non-zero\" for x in log.coef_.tolist()[0]]\n",
    "unique, counts = np.unique(log_zeros, return_counts=True)\n",
    "dict(zip(unique, counts))"
   ]
  },
  {
   "cell_type": "markdown",
   "id": "1ced2074",
   "metadata": {},
   "source": [
    "<h3>New Law Proposal Function</h3>\n",
    "<p>Assuming that the modell will be applied to figure out whether a new law proposal will be accepted or not</p>"
   ]
  },
  {
   "cell_type": "code",
   "execution_count": 92,
   "id": "7a5fca24",
   "metadata": {},
   "outputs": [],
   "source": [
    "def f(text, model = log_l1, vect = vect):\n",
    "    return model.predict(vect.transform([pre_processing(text)]))[0]"
   ]
  },
  {
   "cell_type": "code",
   "execution_count": 93,
   "id": "6ad8a9d0",
   "metadata": {},
   "outputs": [
    {
     "data": {
      "text/plain": [
       "id\n",
       "C109-HR20      0\n",
       "C106-HR2226    0\n",
       "C109-HR1906    0\n",
       "C107-HR97      0\n",
       "C107-HR5019    0\n",
       "C103-HR3968    0\n",
       "C111-HR1019    0\n",
       "C108-HR1505    1\n",
       "C106-HR4438    0\n",
       "C103-HR2890    0\n",
       "Name: text, dtype: int64"
      ]
     },
     "execution_count": 93,
     "metadata": {},
     "output_type": "execute_result"
    }
   ],
   "source": [
    "X_test[:10].apply(f)"
   ]
  }
 ],
 "metadata": {
  "kernelspec": {
   "display_name": "Python 3",
   "language": "python",
   "name": "python3"
  },
  "language_info": {
   "codemirror_mode": {
    "name": "ipython",
    "version": 3
   },
   "file_extension": ".py",
   "mimetype": "text/x-python",
   "name": "python",
   "nbconvert_exporter": "python",
   "pygments_lexer": "ipython3",
   "version": "3.8.10"
  }
 },
 "nbformat": 4,
 "nbformat_minor": 5
}
