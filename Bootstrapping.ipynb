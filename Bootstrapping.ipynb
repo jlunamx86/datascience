{
 "cells": [
  {
   "cell_type": "markdown",
   "id": "09d2f48a",
   "metadata": {},
   "source": [
    "<h1>Bootstrapping</h1>"
   ]
  },
  {
   "cell_type": "code",
   "execution_count": 1,
   "id": "5495baaf",
   "metadata": {},
   "outputs": [],
   "source": [
    "import pandas as pd\n",
    "import numpy as np\n",
    "import random"
   ]
  },
  {
   "cell_type": "code",
   "execution_count": 3,
   "id": "aec67a5d",
   "metadata": {},
   "outputs": [
    {
     "data": {
      "text/plain": [
       "array([34.46751483, 33.41017404, 32.54364298, ..., 32.94127201,\n",
       "       33.62627919, 33.82544116])"
      ]
     },
     "execution_count": 3,
     "metadata": {},
     "output_type": "execute_result"
    }
   ],
   "source": [
    "data = np.random.normal(loc=34, size=10000)\n",
    "data"
   ]
  },
  {
   "cell_type": "code",
   "execution_count": 4,
   "id": "a6e87871",
   "metadata": {},
   "outputs": [
    {
     "data": {
      "text/plain": [
       "34.00047436522762"
      ]
     },
     "execution_count": 4,
     "metadata": {},
     "output_type": "execute_result"
    }
   ],
   "source": [
    "data.mean()"
   ]
  },
  {
   "cell_type": "markdown",
   "id": "982ce0b4",
   "metadata": {},
   "source": [
    "<h2>Bootstrapping for ages</h2>"
   ]
  },
  {
   "cell_type": "code",
   "execution_count": 5,
   "id": "097585a2",
   "metadata": {},
   "outputs": [],
   "source": [
    "average = []\n",
    "for i in range(40):\n",
    "    sample = random.sample(data.tolist(),5)\n",
    "    average.append(np.mean(sample))"
   ]
  },
  {
   "cell_type": "code",
   "execution_count": 6,
   "id": "7e1ac72a",
   "metadata": {},
   "outputs": [
    {
     "data": {
      "text/plain": [
       "33.94731004736195"
      ]
     },
     "execution_count": 6,
     "metadata": {},
     "output_type": "execute_result"
    }
   ],
   "source": [
    "np.mean(average)"
   ]
  }
 ],
 "metadata": {
  "kernelspec": {
   "display_name": "Python 3",
   "language": "python",
   "name": "python3"
  },
  "language_info": {
   "codemirror_mode": {
    "name": "ipython",
    "version": 3
   },
   "file_extension": ".py",
   "mimetype": "text/x-python",
   "name": "python",
   "nbconvert_exporter": "python",
   "pygments_lexer": "ipython3",
   "version": "3.8.10"
  }
 },
 "nbformat": 4,
 "nbformat_minor": 5
}
